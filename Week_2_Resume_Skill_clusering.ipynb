{
  "nbformat": 4,
  "nbformat_minor": 0,
  "metadata": {
    "colab": {
      "name": "Week 2 -Resume Skill clusering.ipynb",
      "provenance": [],
      "toc_visible": true,
      "authorship_tag": "ABX9TyPQTA6WkRC5sEMNyiWT674T",
      "include_colab_link": true
    },
    "kernelspec": {
      "name": "python3",
      "display_name": "Python 3"
    }
  },
  "cells": [
    {
      "cell_type": "markdown",
      "metadata": {
        "id": "view-in-github",
        "colab_type": "text"
      },
      "source": [
        "<a href=\"https://colab.research.google.com/github/C3Suryansu/Widhya-Winternship/blob/main/Week_2_Resume_Skill_clusering.ipynb\" target=\"_parent\"><img src=\"https://colab.research.google.com/assets/colab-badge.svg\" alt=\"Open In Colab\"/></a>"
      ]
    },
    {
      "cell_type": "markdown",
      "metadata": {
        "id": "bbGOOhW8Yb-o"
      },
      "source": [
        "#Importing data and installing necessary libraries"
      ]
    },
    {
      "cell_type": "code",
      "metadata": {
        "id": "gLmFIi8mXInd"
      },
      "source": [
        "from google.colab import drive\r\n",
        "drive.mount('/content/drive')"
      ],
      "execution_count": null,
      "outputs": []
    },
    {
      "cell_type": "code",
      "metadata": {
        "id": "k7eLSCEcXPlD"
      },
      "source": [
        "data_path = '/content/drive/MyDrive/Resumes_Dataset/'"
      ],
      "execution_count": null,
      "outputs": []
    },
    {
      "cell_type": "code",
      "metadata": {
        "id": "ueHemHcGX_IH"
      },
      "source": [
        "!pip install pyresparser\r\n",
        "!pip install tika"
      ],
      "execution_count": null,
      "outputs": []
    },
    {
      "cell_type": "code",
      "metadata": {
        "id": "KLIPpagVYzm_"
      },
      "source": [
        "import nltk\r\n",
        "nltk.download('stopwords')"
      ],
      "execution_count": null,
      "outputs": []
    },
    {
      "cell_type": "markdown",
      "metadata": {
        "id": "jTXrTSuPYhp3"
      },
      "source": [
        "#Microtask 1"
      ]
    },
    {
      "cell_type": "code",
      "metadata": {
        "id": "AaSQVwydZrtf"
      },
      "source": [
        "import os\r\n",
        "resume_list = os.listdir(data_path)"
      ],
      "execution_count": null,
      "outputs": []
    },
    {
      "cell_type": "code",
      "metadata": {
        "id": "WG7o-cMCYixR"
      },
      "source": [
        "from pyresparser import ResumeParser\r\n",
        "data = ResumeParser(data_path + resume_list[0]).get_extracted_data()"
      ],
      "execution_count": null,
      "outputs": []
    },
    {
      "cell_type": "code",
      "metadata": {
        "colab": {
          "base_uri": "https://localhost:8080/"
        },
        "id": "X-YEzRcKYvht",
        "outputId": "ea07c3b4-13af-41fb-8a2e-4e3237638035"
      },
      "source": [
        "data.keys()"
      ],
      "execution_count": null,
      "outputs": [
        {
          "output_type": "execute_result",
          "data": {
            "text/plain": [
              "dict_keys(['name', 'email', 'mobile_number', 'skills', 'college_name', 'degree', 'designation', 'experience', 'company_names', 'no_of_pages', 'total_experience'])"
            ]
          },
          "metadata": {
            "tags": []
          },
          "execution_count": 18
        }
      ]
    },
    {
      "cell_type": "code",
      "metadata": {
        "id": "V1-S62jAY8lf"
      },
      "source": [
        "skills_list = []\r\n",
        "for i in resume_list:\r\n",
        "  data = ResumeParser(data_path + i).get_extracted_data()\r\n",
        "  skills_list.append(data['skills'])\r\n",
        "skills_list[:3]"
      ],
      "execution_count": null,
      "outputs": []
    },
    {
      "cell_type": "code",
      "metadata": {
        "id": "WscVj41SaSW7"
      },
      "source": [
        "import tika\r\n",
        "from tika import parser\r\n",
        "parsed = parser.from_file(data_path + resume_list[0])\r\n",
        "print(parsed[\"content\"])"
      ],
      "execution_count": null,
      "outputs": []
    },
    {
      "cell_type": "code",
      "metadata": {
        "colab": {
          "base_uri": "https://localhost:8080/",
          "height": 154
        },
        "id": "8vEbcfnublye",
        "outputId": "3b873f86-cb58-4950-aa78-0880bd2bbb78"
      },
      "source": [
        "text_list = []\r\n",
        "for i in resume_list:\r\n",
        "  parsed = parser.from_file(data_path + resume_list[0])\r\n",
        "  text_list.append(parsed[\"content\"])\r\n",
        "text_list[3]"
      ],
      "execution_count": null,
      "outputs": [
        {
          "output_type": "execute_result",
          "data": {
            "application/vnd.google.colaboratory.intrinsic+json": {
              "type": "string"
            },
            "text/plain": [
              "'\\n\\n\\n\\n\\n\\n\\n\\n\\n\\n\\n\\n\\n\\n\\n\\n\\n\\n\\n\\n\\n\\n\\n\\n\\n\\n\\n\\n\\n\\n\\n\\n\\n\\n\\n\\n\\n\\n\\n\\n\\n\\n\\n\\n\\n\\nL e b e n s l a u f\\n\\n\\n                               C U R R I C U L U M   V I T A E \\n\\n  \\n\\nPERSONAL DETAILS \\n \\n\\n \\n\\nName:   \\n\\n \\n\\n \\n\\nDaniel Barani \\n\\n \\n\\nAddress: \\n\\n \\n\\nAvenariusstraße 35 \\n\\n90409 Nuremberg  \\n\\n \\n\\nBirth: \\n\\n \\n\\n16. March 1994 \\n\\n \\n\\n \\n\\n     Nationality: \\n\\nDinkelsbühl \\n\\n \\n\\nGerman \\n\\n \\n\\nParents: \\n\\n \\n\\nAnton-Arthur Barani,  \\n\\nIT-System Administration  \\n \\n\\nMonica-Maria Barani,  \\n\\nAccountant   \\n\\n  \\n\\n     Email:                          danielbarani94@gmail.com \\n\\n     \\n\\n     Mobile Phone:               004915257180501             \\n\\n \\n\\n \\n\\n \\n\\n \\n\\nUNIVERSITY EDUCATION   \\n \\n\\n \\n\\nSubject: \\n\\n \\n\\nTarget Degree:   \\n\\n \\n\\nUniversity:  \\n\\n \\n\\n \\n\\nNumber of Semesters: \\n\\n \\n\\nEnrolment:  \\n\\n \\n\\n \\n\\n \\n\\nBusiness Management \\n\\n \\n\\nBachelor of Science (B.Sc.) \\n\\n \\n\\nFAU Erlangen-Nürnberg \\n\\n \\n\\n \\n\\n6 \\n\\n \\n\\nOct 2013 \\n\\n \\n\\n \\n\\n \\n\\n \\n\\n \\n\\n \\n\\n\\n\\nSCHOOL EDUCATION \\n \\n\\n \\n\\nElementary School: \\n\\n \\n\\n \\n\\n2000 - 2004      \\n\\n \\n\\n \\n\\n \\n\\nGrund- und Volksschule Dürrwangen  \\n\\n \\n\\n     Secondary School: 2004 - 2012 Gymnasium Feuchtwangen         \\n\\n \\n\\n     University:    2012 – 2013 Business Engineering at FAU Erlangen-Nuremberg                   \\n\\nsince 2013 Business Management at FAU Erlangen-Nürnberg \\n\\n2016 Semester abroad at Royal Melbourne Institute of \\n\\nTechnology \\n\\n  \\n\\nINTERNSHIPS & PART-TIME WORK \\n \\n\\n \\n\\n      Aug 2015 - Jun 2016: \\n\\n \\n\\n \\n\\n      Dec 2014 - Jul 2015: \\n\\n \\n\\n \\n\\n      Jan 2014 - Jun 2015: \\n\\n \\n\\n \\n\\nFreelancermap.de   \\n\\nStudent position as Junior Online Marketing Manager \\n\\n \\n\\nTeambank \\n\\nStudent position as Junior Data Manager \\n\\n \\n\\nCheckmybus.com  \\n\\nStudent Position as Junior Online Marketing Manager \\n\\nSKILLS & INTERESTS   \\n \\n\\nLanguages: \\n\\n \\n\\nGerman, English, Romanian (B1), Spanish (A1) \\n\\n \\n\\nIT Knowledge \\n\\n \\n\\nDriver’s licence: \\n\\nMS Office, Photoshop/Gimp, Java, Mendeley \\n\\n \\n\\nA1 and B (Europe)  \\n\\n \\n\\nInterests: \\n\\n \\n\\nTravelling, politics, economics, history, psychology, philosophy, \\n\\nsports, music, art \\n\\n \\n\\n \\n\\n \\n\\n    Nuremberg, 22.07.2017 \\n\\n \\n\\n      \\n\\n\\n'"
            ]
          },
          "metadata": {
            "tags": []
          },
          "execution_count": 23
        }
      ]
    },
    {
      "cell_type": "code",
      "metadata": {
        "id": "v_Sun_xKcGlg"
      },
      "source": [
        "import pandas as pd\r\n",
        "df = pd.DataFrame(list(zip(skills_list, text_list)), columns = ['skills', 'ocr']) "
      ],
      "execution_count": null,
      "outputs": []
    },
    {
      "cell_type": "code",
      "metadata": {
        "colab": {
          "base_uri": "https://localhost:8080/",
          "height": 195
        },
        "id": "b-mw5Cx6cvvx",
        "outputId": "e71850aa-20a0-48af-bfa0-ba402002c3c3"
      },
      "source": [
        "df.head()"
      ],
      "execution_count": null,
      "outputs": [
        {
          "output_type": "execute_result",
          "data": {
            "text/html": [
              "<div>\n",
              "<style scoped>\n",
              "    .dataframe tbody tr th:only-of-type {\n",
              "        vertical-align: middle;\n",
              "    }\n",
              "\n",
              "    .dataframe tbody tr th {\n",
              "        vertical-align: top;\n",
              "    }\n",
              "\n",
              "    .dataframe thead th {\n",
              "        text-align: right;\n",
              "    }\n",
              "</style>\n",
              "<table border=\"1\" class=\"dataframe\">\n",
              "  <thead>\n",
              "    <tr style=\"text-align: right;\">\n",
              "      <th></th>\n",
              "      <th>skills</th>\n",
              "      <th>ocr</th>\n",
              "    </tr>\n",
              "  </thead>\n",
              "  <tbody>\n",
              "    <tr>\n",
              "      <th>0</th>\n",
              "      <td>[Marketing, Administration, Engineering, Spani...</td>\n",
              "      <td>\\n\\n\\n\\n\\n\\n\\n\\n\\n\\n\\n\\n\\n\\n\\n\\n\\n\\n\\n\\n\\n\\n\\n...</td>\n",
              "    </tr>\n",
              "    <tr>\n",
              "      <th>1</th>\n",
              "      <td>[Teaching, Presentation, Autocad, French, Adve...</td>\n",
              "      <td>\\n\\n\\n\\n\\n\\n\\n\\n\\n\\n\\n\\n\\n\\n\\n\\n\\n\\n\\n\\n\\n\\n\\n...</td>\n",
              "    </tr>\n",
              "    <tr>\n",
              "      <th>2</th>\n",
              "      <td>[Analyze, Sales, Higher education, Spanish, Tr...</td>\n",
              "      <td>\\n\\n\\n\\n\\n\\n\\n\\n\\n\\n\\n\\n\\n\\n\\n\\n\\n\\n\\n\\n\\n\\n\\n...</td>\n",
              "    </tr>\n",
              "    <tr>\n",
              "      <th>3</th>\n",
              "      <td>[P, French, Legal, Project management, C, R, E...</td>\n",
              "      <td>\\n\\n\\n\\n\\n\\n\\n\\n\\n\\n\\n\\n\\n\\n\\n\\n\\n\\n\\n\\n\\n\\n\\n...</td>\n",
              "    </tr>\n",
              "    <tr>\n",
              "      <th>4</th>\n",
              "      <td>[Electronics, Big data, Process, Strategy, Sec...</td>\n",
              "      <td>\\n\\n\\n\\n\\n\\n\\n\\n\\n\\n\\n\\n\\n\\n\\n\\n\\n\\n\\n\\n\\n\\n\\n...</td>\n",
              "    </tr>\n",
              "  </tbody>\n",
              "</table>\n",
              "</div>"
            ],
            "text/plain": [
              "                                              skills                                                ocr\n",
              "0  [Marketing, Administration, Engineering, Spani...  \\n\\n\\n\\n\\n\\n\\n\\n\\n\\n\\n\\n\\n\\n\\n\\n\\n\\n\\n\\n\\n\\n\\n...\n",
              "1  [Teaching, Presentation, Autocad, French, Adve...  \\n\\n\\n\\n\\n\\n\\n\\n\\n\\n\\n\\n\\n\\n\\n\\n\\n\\n\\n\\n\\n\\n\\n...\n",
              "2  [Analyze, Sales, Higher education, Spanish, Tr...  \\n\\n\\n\\n\\n\\n\\n\\n\\n\\n\\n\\n\\n\\n\\n\\n\\n\\n\\n\\n\\n\\n\\n...\n",
              "3  [P, French, Legal, Project management, C, R, E...  \\n\\n\\n\\n\\n\\n\\n\\n\\n\\n\\n\\n\\n\\n\\n\\n\\n\\n\\n\\n\\n\\n\\n...\n",
              "4  [Electronics, Big data, Process, Strategy, Sec...  \\n\\n\\n\\n\\n\\n\\n\\n\\n\\n\\n\\n\\n\\n\\n\\n\\n\\n\\n\\n\\n\\n\\n..."
            ]
          },
          "metadata": {
            "tags": []
          },
          "execution_count": 26
        }
      ]
    },
    {
      "cell_type": "code",
      "metadata": {
        "id": "Yw1aF62EdK2O"
      },
      "source": [
        "df.to_csv('/content/resume.csv')"
      ],
      "execution_count": null,
      "outputs": []
    },
    {
      "cell_type": "markdown",
      "metadata": {
        "id": "sUfEofnQJoZU"
      },
      "source": [
        "#Microtask 2"
      ]
    },
    {
      "cell_type": "code",
      "metadata": {
        "id": "HuOLtRJDdVzw",
        "colab": {
          "base_uri": "https://localhost:8080/"
        },
        "outputId": "71547b1e-860d-41f1-e5d0-9a9c583951d4"
      },
      "source": [
        "import pandas as pd\r\n",
        "import nltk\r\n",
        "nltk.download('stopwords')"
      ],
      "execution_count": null,
      "outputs": [
        {
          "output_type": "stream",
          "text": [
            "[nltk_data] Downloading package stopwords to /root/nltk_data...\n",
            "[nltk_data]   Unzipping corpora/stopwords.zip.\n"
          ],
          "name": "stdout"
        },
        {
          "output_type": "execute_result",
          "data": {
            "text/plain": [
              "True"
            ]
          },
          "metadata": {
            "tags": []
          },
          "execution_count": 2
        }
      ]
    },
    {
      "cell_type": "code",
      "metadata": {
        "colab": {
          "base_uri": "https://localhost:8080/",
          "height": 195
        },
        "id": "OvSWeAu_LEb4",
        "outputId": "2a08da7f-4555-408f-fc5e-d5fefe030439"
      },
      "source": [
        "from nltk.corpus import stopwords\r\n",
        "stop = stopwords.words('english')\r\n",
        "df = pd.read_csv('resume.csv')\r\n",
        "df.head()"
      ],
      "execution_count": null,
      "outputs": [
        {
          "output_type": "execute_result",
          "data": {
            "text/html": [
              "<div>\n",
              "<style scoped>\n",
              "    .dataframe tbody tr th:only-of-type {\n",
              "        vertical-align: middle;\n",
              "    }\n",
              "\n",
              "    .dataframe tbody tr th {\n",
              "        vertical-align: top;\n",
              "    }\n",
              "\n",
              "    .dataframe thead th {\n",
              "        text-align: right;\n",
              "    }\n",
              "</style>\n",
              "<table border=\"1\" class=\"dataframe\">\n",
              "  <thead>\n",
              "    <tr style=\"text-align: right;\">\n",
              "      <th></th>\n",
              "      <th>Unnamed: 0</th>\n",
              "      <th>skills</th>\n",
              "      <th>ocr</th>\n",
              "    </tr>\n",
              "  </thead>\n",
              "  <tbody>\n",
              "    <tr>\n",
              "      <th>0</th>\n",
              "      <td>0</td>\n",
              "      <td>['Marketing', 'Administration', 'Engineering',...</td>\n",
              "      <td>\\n\\n\\n\\n\\n\\n\\n\\n\\n\\n\\n\\n\\n\\n\\n\\n\\n\\n\\n\\n\\n\\n\\n...</td>\n",
              "    </tr>\n",
              "    <tr>\n",
              "      <th>1</th>\n",
              "      <td>1</td>\n",
              "      <td>['Teaching', 'Presentation', 'Autocad', 'Frenc...</td>\n",
              "      <td>\\n\\n\\n\\n\\n\\n\\n\\n\\n\\n\\n\\n\\n\\n\\n\\n\\n\\n\\n\\n\\n\\n\\n...</td>\n",
              "    </tr>\n",
              "    <tr>\n",
              "      <th>2</th>\n",
              "      <td>2</td>\n",
              "      <td>['Analyze', 'Sales', 'Higher education', 'Span...</td>\n",
              "      <td>\\n\\n\\n\\n\\n\\n\\n\\n\\n\\n\\n\\n\\n\\n\\n\\n\\n\\n\\n\\n\\n\\n\\n...</td>\n",
              "    </tr>\n",
              "    <tr>\n",
              "      <th>3</th>\n",
              "      <td>3</td>\n",
              "      <td>['P', 'French', 'Legal', 'Project management',...</td>\n",
              "      <td>\\n\\n\\n\\n\\n\\n\\n\\n\\n\\n\\n\\n\\n\\n\\n\\n\\n\\n\\n\\n\\n\\n\\n...</td>\n",
              "    </tr>\n",
              "    <tr>\n",
              "      <th>4</th>\n",
              "      <td>4</td>\n",
              "      <td>['Electronics', 'Big data', 'Process', 'Strate...</td>\n",
              "      <td>\\n\\n\\n\\n\\n\\n\\n\\n\\n\\n\\n\\n\\n\\n\\n\\n\\n\\n\\n\\n\\n\\n\\n...</td>\n",
              "    </tr>\n",
              "  </tbody>\n",
              "</table>\n",
              "</div>"
            ],
            "text/plain": [
              "   Unnamed: 0  ...                                                ocr\n",
              "0           0  ...  \\n\\n\\n\\n\\n\\n\\n\\n\\n\\n\\n\\n\\n\\n\\n\\n\\n\\n\\n\\n\\n\\n\\n...\n",
              "1           1  ...  \\n\\n\\n\\n\\n\\n\\n\\n\\n\\n\\n\\n\\n\\n\\n\\n\\n\\n\\n\\n\\n\\n\\n...\n",
              "2           2  ...  \\n\\n\\n\\n\\n\\n\\n\\n\\n\\n\\n\\n\\n\\n\\n\\n\\n\\n\\n\\n\\n\\n\\n...\n",
              "3           3  ...  \\n\\n\\n\\n\\n\\n\\n\\n\\n\\n\\n\\n\\n\\n\\n\\n\\n\\n\\n\\n\\n\\n\\n...\n",
              "4           4  ...  \\n\\n\\n\\n\\n\\n\\n\\n\\n\\n\\n\\n\\n\\n\\n\\n\\n\\n\\n\\n\\n\\n\\n...\n",
              "\n",
              "[5 rows x 3 columns]"
            ]
          },
          "metadata": {
            "tags": []
          },
          "execution_count": 4
        }
      ]
    },
    {
      "cell_type": "code",
      "metadata": {
        "colab": {
          "base_uri": "https://localhost:8080/",
          "height": 195
        },
        "id": "XPDq_dkoLFDs",
        "outputId": "69265f69-59f2-4f59-c174-8ff097c54822"
      },
      "source": [
        "df['skills'] = df['skills'].apply(lambda x: ' '.join([word for word in x.split() if word not in (stop)]))\r\n",
        "df.head()"
      ],
      "execution_count": null,
      "outputs": [
        {
          "output_type": "execute_result",
          "data": {
            "text/html": [
              "<div>\n",
              "<style scoped>\n",
              "    .dataframe tbody tr th:only-of-type {\n",
              "        vertical-align: middle;\n",
              "    }\n",
              "\n",
              "    .dataframe tbody tr th {\n",
              "        vertical-align: top;\n",
              "    }\n",
              "\n",
              "    .dataframe thead th {\n",
              "        text-align: right;\n",
              "    }\n",
              "</style>\n",
              "<table border=\"1\" class=\"dataframe\">\n",
              "  <thead>\n",
              "    <tr style=\"text-align: right;\">\n",
              "      <th></th>\n",
              "      <th>Unnamed: 0</th>\n",
              "      <th>skills</th>\n",
              "      <th>ocr</th>\n",
              "    </tr>\n",
              "  </thead>\n",
              "  <tbody>\n",
              "    <tr>\n",
              "      <th>0</th>\n",
              "      <td>0</td>\n",
              "      <td>['Marketing', 'Administration', 'Engineering',...</td>\n",
              "      <td>\\n\\n\\n\\n\\n\\n\\n\\n\\n\\n\\n\\n\\n\\n\\n\\n\\n\\n\\n\\n\\n\\n\\n...</td>\n",
              "    </tr>\n",
              "    <tr>\n",
              "      <th>1</th>\n",
              "      <td>1</td>\n",
              "      <td>['Teaching', 'Presentation', 'Autocad', 'Frenc...</td>\n",
              "      <td>\\n\\n\\n\\n\\n\\n\\n\\n\\n\\n\\n\\n\\n\\n\\n\\n\\n\\n\\n\\n\\n\\n\\n...</td>\n",
              "    </tr>\n",
              "    <tr>\n",
              "      <th>2</th>\n",
              "      <td>2</td>\n",
              "      <td>['Analyze', 'Sales', 'Higher education', 'Span...</td>\n",
              "      <td>\\n\\n\\n\\n\\n\\n\\n\\n\\n\\n\\n\\n\\n\\n\\n\\n\\n\\n\\n\\n\\n\\n\\n...</td>\n",
              "    </tr>\n",
              "    <tr>\n",
              "      <th>3</th>\n",
              "      <td>3</td>\n",
              "      <td>['P', 'French', 'Legal', 'Project management',...</td>\n",
              "      <td>\\n\\n\\n\\n\\n\\n\\n\\n\\n\\n\\n\\n\\n\\n\\n\\n\\n\\n\\n\\n\\n\\n\\n...</td>\n",
              "    </tr>\n",
              "    <tr>\n",
              "      <th>4</th>\n",
              "      <td>4</td>\n",
              "      <td>['Electronics', 'Big data', 'Process', 'Strate...</td>\n",
              "      <td>\\n\\n\\n\\n\\n\\n\\n\\n\\n\\n\\n\\n\\n\\n\\n\\n\\n\\n\\n\\n\\n\\n\\n...</td>\n",
              "    </tr>\n",
              "  </tbody>\n",
              "</table>\n",
              "</div>"
            ],
            "text/plain": [
              "   Unnamed: 0  ...                                                ocr\n",
              "0           0  ...  \\n\\n\\n\\n\\n\\n\\n\\n\\n\\n\\n\\n\\n\\n\\n\\n\\n\\n\\n\\n\\n\\n\\n...\n",
              "1           1  ...  \\n\\n\\n\\n\\n\\n\\n\\n\\n\\n\\n\\n\\n\\n\\n\\n\\n\\n\\n\\n\\n\\n\\n...\n",
              "2           2  ...  \\n\\n\\n\\n\\n\\n\\n\\n\\n\\n\\n\\n\\n\\n\\n\\n\\n\\n\\n\\n\\n\\n\\n...\n",
              "3           3  ...  \\n\\n\\n\\n\\n\\n\\n\\n\\n\\n\\n\\n\\n\\n\\n\\n\\n\\n\\n\\n\\n\\n\\n...\n",
              "4           4  ...  \\n\\n\\n\\n\\n\\n\\n\\n\\n\\n\\n\\n\\n\\n\\n\\n\\n\\n\\n\\n\\n\\n\\n...\n",
              "\n",
              "[5 rows x 3 columns]"
            ]
          },
          "metadata": {
            "tags": []
          },
          "execution_count": 6
        }
      ]
    },
    {
      "cell_type": "code",
      "metadata": {
        "id": "ffZilM0QQe4o"
      },
      "source": [
        "from sklearn.feature_extraction.text import CountVectorizer\r\n",
        "vectorizer = CountVectorizer()"
      ],
      "execution_count": null,
      "outputs": []
    },
    {
      "cell_type": "code",
      "metadata": {
        "id": "Bv7ICQifW6E5"
      },
      "source": [
        "vectorizer1 = CountVectorizer(analyzer='word', ngram_range=(1, 1))\r\n",
        "vectorizer2 = CountVectorizer(analyzer='word', ngram_range=(2, 2))"
      ],
      "execution_count": null,
      "outputs": []
    },
    {
      "cell_type": "code",
      "metadata": {
        "id": "TVoR6QEHXv7Q"
      },
      "source": [
        "X1 = vectorizer1.fit_transform(df['skills'])"
      ],
      "execution_count": null,
      "outputs": []
    },
    {
      "cell_type": "code",
      "metadata": {
        "colab": {
          "base_uri": "https://localhost:8080/"
        },
        "id": "fkeUHSovXzRS",
        "outputId": "709b3eb4-ffab-46a5-961a-fbe33d698270"
      },
      "source": [
        "print(vectorizer1.get_feature_names())"
      ],
      "execution_count": null,
      "outputs": [
        {
          "output_type": "stream",
          "text": [
            "['access', 'account', 'accounting', 'acquisition', 'administration', 'adobe', 'advertising', 'agile', 'algorithms', 'alliances', 'analysis', 'analytical', 'analytics', 'analyze', 'android', 'apis', 'applications', 'architecture', 'asp', 'assembly', 'audit', 'autocad', 'automation', 'bank', 'banking', 'benchmarking', 'beverage', 'big', 'billing', 'brand', 'branding', 'budget', 'business', 'cad', 'call', 'cash', 'center', 'certification', 'cloud', 'coaching', 'coding', 'collection', 'communication', 'communications', 'compliance', 'computer', 'construction', 'consulting', 'content', 'contracts', 'controls', 'correspondence', 'cost', 'crm', 'css', 'customer', 'daily', 'data', 'database', 'debugging', 'design', 'development', 'dhcp', 'digital', 'distribution', 'economics', 'editorial', 'education', 'electrical', 'electronics', 'email', 'engagement', 'engineering', 'english', 'erp', 'eve', 'event', 'excel', 'expenses', 'experience', 'experimental', 'fabrication', 'facebook', 'filing', 'finance', 'financial', 'flow', 'french', 'fulfillment', 'fundraising', 'german', 'goals', 'governance', 'graphic', 'green', 'health', 'higher', 'hotel', 'hotels', 'html', 'human', 'illustrator', 'implicit', 'improvement', 'indesign', 'installation', 'interactive', 'internal', 'international', 'inventory', 'invoices', 'iso', 'itil', 'java', 'jose', 'journalism', 'kpi', 'kpis', 'lean', 'legal', 'linux', 'logistics', 'management', 'market', 'marketing', 'math', 'mathematics', 'matlab', 'matrix', 'media', 'merchandising', 'merchant', 'metrics', 'microsoft', 'mining', 'mobile', 'modeling', 'money', 'mortgage', 'ms', 'negotiation', 'net', 'networking', 'newspaper', 'office', 'operations', 'oracle', 'orders', 'os', 'outsourcing', 'partnership', 'partnerships', 'payroll', 'photography', 'photoshop', 'php', 'physics', 'plan', 'planning', 'policies', 'portfolio', 'positioning', 'powerpoint', 'pr', 'presentation', 'presentations', 'process', 'procurement', 'product', 'programming', 'project', 'proposal', 'psychology', 'public', 'purchase', 'purchasing', 'quality', 'reconcile', 'reconciliation', 'recruit', 'recruiting', 'recruitment', 'reduction', 'regulations', 'relations', 'reporting', 'reports', 'requests', 'research', 'resources', 'retail', 'risk', 'routing', 'saas', 'safety', 'sales', 'salesforce', 'sap', 'sas', 'schedule', 'schedules', 'scheduling', 'scrum', 'sdlc', 'security', 'seo', 'service', 'sharepoint', 'skills', 'social', 'solidworks', 'spanish', 'spark', 'sports', 'spreadsheets', 'sql', 'staffing', 'stakeholder', 'standardization', 'standards', 'statements', 'statistical', 'statistics', 'strategy', 'supervisor', 'surprise', 'system', 'talent', 'tax', 'teaching', 'technical', 'testing', 'time', 'training', 'transport', 'transportation', 'travel', 'troubleshooting', 'try', 'ubuntu', 'unix', 'updates', 'ux', 'video', 'visual', 'website', 'windows', 'word', 'writing']\n"
          ],
          "name": "stdout"
        }
      ]
    },
    {
      "cell_type": "code",
      "metadata": {
        "colab": {
          "base_uri": "https://localhost:8080/"
        },
        "id": "32jQtapWX0jA",
        "outputId": "78b310b0-a915-48b1-832f-da98dcfcf315"
      },
      "source": [
        "X2 = vectorizer2.fit_transform(df['skills'])\r\n",
        "print(vectorizer2.get_feature_names())"
      ],
      "execution_count": null,
      "outputs": [
        {
          "output_type": "stream",
          "text": [
            "['access account', 'access brand', 'access english', 'access security', 'access spanish', 'access system', 'account management', 'accounting brand', 'accounting financial', 'accounting french', 'accounting hotel', 'acquisition training', 'administration engineering', 'administration french', 'administration improvement', 'administration international', 'administration partnership', 'administration presentations', 'administration project', 'administration recruitment', 'administration research', 'administration spanish', 'administration writing', 'adobe content', 'adobe policies', 'adobe social', 'adobe word', 'advertising design', 'advertising mathematics', 'advertising positioning', 'advertising social', 'advertising writing', 'alliances presentation', 'analysis analysis', 'analysis analyze', 'analysis consulting', 'analysis correspondence', 'analysis distribution', 'analysis english', 'analysis excel', 'analysis german', 'analysis improvement', 'analysis kpi', 'analysis operations', 'analysis sap', 'analysis sports', 'analysis supervisor', 'analysis system', 'analytical powerpoint', 'analytical skills', 'analytical writing', 'analytics brand', 'analytics higher', 'analyze customer', 'analyze improvement', 'analyze kpis', 'analyze sales', 'android java', 'android purchase', 'apis english', 'applications excel', 'architecture customer', 'architecture system', 'asp android', 'assembly acquisition', 'assembly html', 'assembly reporting', 'audit oracle', 'audit research', 'audit saas', 'audit sales', 'audit sharepoint', 'autocad engineering', 'autocad french', 'automation physics', 'automation windows', 'bank reconciliation', 'banking accounting', 'banking agile', 'banking excel', 'banking sales', 'benchmarking logistics', 'beverage adobe', 'big data', 'billing marketing', 'brand analysis', 'brand data', 'brand distribution', 'brand excel', 'brand graphic', 'brand illustrator', 'brand website', 'branding international', 'budget customer', 'budget english', 'budget photography', 'budget reports', 'business management', 'cad design', 'call center', 'cash flow', 'center advertising', 'certification accounting', 'certification construction', 'certification french', 'certification plan', 'certification sql', 'cloud debugging', 'coaching access', 'coaching crm', 'coaching economics', 'coding assembly', 'collection french', 'communication adobe', 'communication branding', 'communication business', 'communication css', 'communication finance', 'communication german', 'communication interactive', 'communication international', 'communication purchasing', 'communication recruitment', 'communication schedules', 'communication scheduling', 'communication training', 'communication word', 'communications customer', 'compliance budget', 'compliance internal', 'compliance reports', 'compliance spanish', 'computer applications', 'construction design', 'construction erp', 'construction excel', 'construction international', 'construction spanish', 'construction visual', 'consulting excel', 'consulting html', 'consulting kpi', 'consulting proposal', 'content international', 'content networking', 'content photoshop', 'content word', 'contracts interactive', 'controls fulfillment', 'correspondence standardization', 'cost reduction', 'crm account', 'crm english', 'crm requests', 'crm sap', 'css communication', 'css international', 'customer experience', 'customer management', 'customer service', 'daily operations', 'data analysis', 'data collection', 'data management', 'data process', 'database brand', 'database operations', 'database sap', 'debugging economics', 'design advertising', 'design analysis', 'design analytics', 'design data', 'design database', 'design editorial', 'design excel', 'design experimental', 'design fabrication', 'design merchandising', 'design merchant', 'design modeling', 'design operations', 'design spanish', 'design word', 'development sales', 'dhcp system', 'digital marketing', 'distribution analysis', 'economics crm', 'economics html', 'economics java', 'editorial brand', 'editorial computer', 'editorial sap', 'education engineering', 'education spanish', 'electrical programming', 'electronics big', 'email beverage', 'email communication', 'email german', 'email mobile', 'email photoshop', 'email policies', 'email psychology', 'email recruitment', 'email sports', 'email technical', 'email training', 'email word', 'engagement word', 'engineering cad', 'engineering design', 'engineering experimental', 'engineering french', 'engineering fundraising', 'engineering improvement', 'engineering kpis', 'engineering photography', 'engineering project', 'engineering spanish', 'english billing', 'english communication', 'english email', 'english engagement', 'english excel', 'english german', 'english international', 'english mobile', 'english partnership', 'english payroll', 'english purchasing', 'english reports', 'english retail', 'english schedules', 'english sports', 'english sql', 'english training', 'erp design', 'eve english', 'event planning', 'excel administration', 'excel analyze', 'excel budget', 'excel microsoft', 'excel photography', 'excel social', 'excel system', 'excel teaching', 'excel technical', 'expenses supervisor', 'experience administration', 'experience php', 'experimental english', 'experimental matlab', 'fabrication excel', 'facebook research', 'filing coaching', 'filing crm', 'finance international', 'finance policies', 'finance research', 'finance risk', 'finance sales', 'finance word', 'financial statements', 'flow programming', 'french advertising', 'french bank', 'french data', 'french database', 'french design', 'french legal', 'french matlab', 'french powerpoint', 'french presentations', 'french spanish', 'fulfillment call', 'fulfillment illustrator', 'fulfillment reports', 'fundraising photography', 'fundraising spanish', 'german construction', 'german international', 'german mobile', 'german photoshop', 'german sap', 'german teaching', 'german training', 'german word', 'goals microsoft', 'governance logistics', 'graphic design', 'green excel', 'health brand', 'higher education', 'hotel administration', 'hotel excel', 'hotel indesign', 'hotel operations', 'hotel video', 'hotels photoshop', 'hotels sports', 'html english', 'html governance', 'html net', 'html system', 'human resources', 'illustrator facebook', 'illustrator technical', 'illustrator training', 'illustrator video', 'implicit writing', 'improvement cloud', 'improvement engineering', 'improvement powerpoint', 'improvement project', 'improvement reports', 'improvement spanish', 'indesign french', 'installation architecture', 'installation pr', 'interactive training', 'interactive word', 'internal audit', 'internal communications', 'international banking', 'international excel', 'international market', 'international safety', 'international supervisor', 'international travel', 'inventory administration', 'inventory expenses', 'inventory management', 'inventory process', 'inventory reconciliation', 'invoices access', 'invoices word', 'iso certification', 'iso technical', 'itil certification', 'java architecture', 'java consulting', 'java security', 'java system', 'jose process', 'journalism policies', 'journalism sales', 'journalism writing', 'kpi administration', 'kpi analysis', 'kpi safety', 'kpis spanish', 'lean analytics', 'lean legal', 'legal advertising', 'legal database', 'legal french', 'legal project', 'legal quality', 'legal sas', 'linux oracle', 'logistics audit', 'logistics email', 'logistics english', 'logistics finance', 'logistics mobile', 'logistics negotiation', 'logistics sports', 'management administration', 'management email', 'management english', 'management fundraising', 'management international', 'management logistics', 'management outsourcing', 'management research', 'management spanish', 'management stakeholder', 'management system', 'management talent', 'market research', 'marketing administration', 'marketing construction', 'marketing design', 'marketing inventory', 'marketing microsoft', 'marketing presentation', 'marketing process', 'marketing reconciliation', 'marketing sales', 'marketing salesforce', 'marketing spark', 'marketing strategy', 'marketing teaching', 'marketing visual', 'marketing windows', 'math english', 'math mobile', 'mathematics electrical', 'mathematics powerpoint', 'matlab analysis', 'matlab microsoft', 'matrix operations', 'media excel', 'media spanish', 'merchandising access', 'merchandising strategy', 'merchant analysis', 'metrics administration', 'microsoft excel', 'microsoft office', 'microsoft word', 'mining technical', 'mining training', 'mobile german', 'mobile itil', 'mobile mathematics', 'mobile photoshop', 'mobile procurement', 'mobile public', 'mobile recruiting', 'mobile tax', 'mobile training', 'mobile word', 'mobile writing', 'modeling operations', 'money english', 'mortgage legal', 'ms project', 'negotiation procurement', 'negotiation recruitment', 'net try', 'networking consulting', 'networking english', 'networking human', 'newspaper training', 'office email', 'office english', 'office logistics', 'office time', 'operations analysis', 'operations customer', 'operations email', 'operations english', 'operations german', 'operations inventory', 'operations kpi', 'operations management', 'operations sap', 'operations supervisor', 'oracle sdlc', 'orders schedule', 'orders technical', 'os logistics', 'outsourcing audit', 'outsourcing finance', 'outsourcing training', 'partnership international', 'partnership powerpoint', 'partnerships english', 'payroll finance', 'payroll scheduling', 'photography editorial', 'photography microsoft', 'photography os', 'photography pr', 'photography reports', 'photoshop adobe', 'photoshop content', 'photoshop psychology', 'photoshop sales', 'photoshop technical', 'photoshop word', 'php ux', 'physics security', 'plan accounting', 'plan brand', 'plan certification', 'plan editorial', 'plan english', 'plan health', 'plan research', 'planning illustrator', 'policies sales', 'policies ubuntu', 'policies writing', 'portfolio management', 'positioning photography', 'positioning process', 'powerpoint access', 'powerpoint accounting', 'powerpoint coaching', 'powerpoint english', 'powerpoint html', 'powerpoint java', 'powerpoint microsoft', 'powerpoint process', 'powerpoint sas', 'powerpoint system', 'pr finance', 'pr math', 'pr microsoft', 'presentation administration', 'presentation autocad', 'presentation human', 'presentation jose', 'presentation positioning', 'presentation process', 'presentations compliance', 'presentations improvement', 'presentations process', 'presentations project', 'presentations spanish', 'process assembly', 'process budget', 'process data', 'process fulfillment', 'process human', 'process illustrator', 'process installation', 'process merchandising', 'process networking', 'process operations', 'process purchase', 'process regulations', 'process strategy', 'process technical', 'process transport', 'procurement adobe', 'procurement contracts', 'product development', 'programming english', 'project linux', 'project management', 'proposal accounting', 'psychology sports', 'psychology word', 'public relations', 'purchase orders', 'purchasing communication', 'purchasing css', 'purchasing international', 'quality standards', 'reconcile fulfillment', 'reconciliation administration', 'reconciliation english', 'reconciliation improvement', 'reconciliation inventory', 'reconciliation presentation', 'reconciliation system', 'recruit analytical', 'recruiting content', 'recruiting word', 'recruitment audit', 'recruitment outsourcing', 'recruitment public', 'recruitment recruiting', 'reduction training', 'regulations acquisition', 'regulations training', 'relations photoshop', 'relations product', 'reporting iso', 'reports email', 'reports english', 'reports logistics', 'reports mobile', 'reports sales', 'reports spreadsheets', 'reports tax', 'requests international', 'research accounting', 'research certification', 'research construction', 'research consulting', 'research design', 'research digital', 'research hotel', 'research market', 'research mortgage', 'research plan', 'research powerpoint', 'research video', 'research visual', 'resources fulfillment', 'resources money', 'resources schedule', 'resources technical', 'retail german', 'risk management', 'routing english', 'saas access', 'safety analyze', 'sales autocad', 'sales cash', 'sales coaching', 'sales english', 'sales eve', 'sales french', 'sales goals', 'sales higher', 'sales powerpoint', 'sales presentation', 'sales recruit', 'sales staffing', 'sales system', 'sales writing', 'salesforce security', 'sap audit', 'sap excel', 'sap finance', 'sap green', 'sap ms', 'sap spanish', 'sap teaching', 'sas crm', 'sas spanish', 'schedule accounting', 'schedule mining', 'schedules construction', 'schedules finance', 'scheduling international', 'scheduling solidworks', 'scrum asp', 'sdlc autocad', 'security android', 'security dhcp', 'security microsoft', 'security training', 'security updates', 'seo powerpoint', 'service benchmarking', 'service email', 'service hotels', 'service mobile', 'service operations', 'service reports', 'sharepoint customer', 'skills illustrator', 'social media', 'solidworks engineering', 'spanish budget', 'spanish compliance', 'spanish controls', 'spanish customer', 'spanish economics', 'spanish email', 'spanish english', 'spanish finance', 'spanish hotels', 'spanish installation', 'spanish internal', 'spanish logistics', 'spanish negotiation', 'spanish photography', 'spanish process', 'spanish strategy', 'spanish surprise', 'spanish transportation', 'spanish troubleshooting', 'spanish website', 'spark coding', 'sports accounting', 'sports communication', 'sports email', 'sports mobile', 'sports photoshop', 'sports technical', 'spreadsheets logistics', 'sql algorithms', 'sql banking', 'staffing statistics', 'stakeholder management', 'standardization analysis', 'standardization metrics', 'standards analysis', 'statements standardization', 'statistical analysis', 'statistics english', 'strategy event', 'strategy illustrator', 'strategy invoices', 'strategy networking', 'strategy security', 'strategy training', 'strategy transport', 'supervisor process', 'supervisor troubleshooting', 'surprise finance', 'system assembly', 'system english', 'system money', 'system operations', 'system partnerships', 'system portfolio', 'system programming', 'system routing', 'talent management', 'tax accounting', 'tax banking', 'tax journalism', 'tax word', 'teaching administration', 'teaching autocad', 'teaching customer', 'teaching french', 'teaching hotel', 'teaching marketing', 'teaching presentation', 'teaching presentations', 'teaching windows', 'technical certification', 'technical construction', 'technical design', 'technical french', 'technical international', 'technical invoices', 'technical lean', 'technical research', 'technical unix', 'technical word', 'testing automation', 'testing process', 'testing scrum', 'time management', 'training brand', 'training certification', 'training data', 'training finance', 'training international', 'training iso', 'training legal', 'training outsourcing', 'training payroll', 'training photoshop', 'training plan', 'training research', 'training technical', 'training word', 'transport mining', 'transport regulations', 'transportation english', 'travel excel', 'troubleshooting access', 'troubleshooting english', 'try english', 'ubuntu matrix', 'unix lean', 'updates cost', 'ux java', 'video daily', 'video hotel', 'video visual', 'visual data', 'visual design', 'visual french', 'visual matlab', 'website apis', 'website math', 'website newspaper', 'website plan', 'website reconcile', 'windows design', 'windows english', 'windows hotel', 'windows marketing', 'windows process', 'windows security', 'word analytical', 'word banking', 'word consulting', 'word english', 'word excel', 'word implicit', 'word international', 'word journalism', 'word process', 'word sales', 'word seo', 'word tax', 'word travel', 'word website', 'writing access', 'writing bank', 'writing engineering', 'writing experimental', 'writing filing', 'writing powerpoint', 'writing sas', 'writing spanish', 'writing system']\n"
          ],
          "name": "stdout"
        }
      ]
    },
    {
      "cell_type": "markdown",
      "metadata": {
        "id": "D3AiKT4AYg7h"
      },
      "source": [
        "#Microtask 3"
      ]
    },
    {
      "cell_type": "code",
      "metadata": {
        "id": "36HcdCXrYJ7a"
      },
      "source": [
        "from sklearn.feature_extraction.text import TfidfVectorizer"
      ],
      "execution_count": null,
      "outputs": []
    },
    {
      "cell_type": "code",
      "metadata": {
        "colab": {
          "base_uri": "https://localhost:8080/"
        },
        "id": "aDuBoR7SZUb2",
        "outputId": "2b013969-5f0a-4e7e-f02d-e05b5c5e4f64"
      },
      "source": [
        "def identity_tokenizer(text):\r\n",
        "    return text\r\n",
        "\r\n",
        "tfidf1 = TfidfVectorizer(tokenizer = identity_tokenizer, stop_words='english', lowercase = False)    \r\n",
        "X1 = tfidf1.fit_transform(vectorizer1.get_feature_names())"
      ],
      "execution_count": null,
      "outputs": [
        {
          "output_type": "stream",
          "text": [
            "/usr/local/lib/python3.6/dist-packages/sklearn/feature_extraction/text.py:385: UserWarning: Your stop_words may be inconsistent with your preprocessing. Tokenizing the stop words generated tokens ['b', 'c', 'd', 'e', 'f', 'g', 'h', 'k', 'l', 'm', 'n', 'o', 'p', 'r', 's', 't', 'u', 'v', 'w', 'x', 'y'] not in stop_words.\n",
            "  'stop_words.' % sorted(inconsistent))\n"
          ],
          "name": "stderr"
        }
      ]
    },
    {
      "cell_type": "code",
      "metadata": {
        "colab": {
          "base_uri": "https://localhost:8080/"
        },
        "id": "ItowUDOGamwK",
        "outputId": "cc8525f0-6185-4c32-eaf1-696255bff164"
      },
      "source": [
        "tfidf2 = TfidfVectorizer(tokenizer = identity_tokenizer, stop_words='english', lowercase = False)    \r\n",
        "X2 = tfidf2.fit_transform(vectorizer2.get_feature_names())"
      ],
      "execution_count": null,
      "outputs": [
        {
          "output_type": "stream",
          "text": [
            "/usr/local/lib/python3.6/dist-packages/sklearn/feature_extraction/text.py:385: UserWarning: Your stop_words may be inconsistent with your preprocessing. Tokenizing the stop words generated tokens ['b', 'c', 'd', 'e', 'f', 'g', 'h', 'k', 'l', 'm', 'n', 'o', 'p', 'r', 's', 't', 'u', 'v', 'w', 'x', 'y'] not in stop_words.\n",
            "  'stop_words.' % sorted(inconsistent))\n"
          ],
          "name": "stderr"
        }
      ]
    },
    {
      "cell_type": "markdown",
      "metadata": {
        "id": "8uMHVIdibJ0Q"
      },
      "source": [
        "#Microtask 4"
      ]
    },
    {
      "cell_type": "code",
      "metadata": {
        "id": "ly6GsxAaay0V"
      },
      "source": [
        "import numpy as np\r\n",
        "import matplotlib.pyplot as plt\r\n",
        "from sklearn.cluster import KMeans"
      ],
      "execution_count": null,
      "outputs": []
    },
    {
      "cell_type": "code",
      "metadata": {
        "colab": {
          "base_uri": "https://localhost:8080/"
        },
        "id": "dU9dWqQLbLcx",
        "outputId": "36a3276e-18c2-4089-c89a-712cdd9a26b3"
      },
      "source": [
        "from sklearn.cluster import KMeans\r\n",
        "Kmean1 = KMeans(n_clusters=3)\r\n",
        "Kmean1.fit(X1)"
      ],
      "execution_count": null,
      "outputs": [
        {
          "output_type": "execute_result",
          "data": {
            "text/plain": [
              "KMeans(algorithm='auto', copy_x=True, init='k-means++', max_iter=300,\n",
              "       n_clusters=3, n_init=10, n_jobs=None, precompute_distances='auto',\n",
              "       random_state=None, tol=0.0001, verbose=0)"
            ]
          },
          "metadata": {
            "tags": []
          },
          "execution_count": 40
        }
      ]
    },
    {
      "cell_type": "code",
      "metadata": {
        "colab": {
          "base_uri": "https://localhost:8080/"
        },
        "id": "oqA2UpMsbVYN",
        "outputId": "e026b752-2170-47a2-8de1-2b3d7803e275"
      },
      "source": [
        "Kmean2 = KMeans(n_clusters=3)\r\n",
        "Kmean2.fit(X2)"
      ],
      "execution_count": null,
      "outputs": [
        {
          "output_type": "execute_result",
          "data": {
            "text/plain": [
              "KMeans(algorithm='auto', copy_x=True, init='k-means++', max_iter=300,\n",
              "       n_clusters=3, n_init=10, n_jobs=None, precompute_distances='auto',\n",
              "       random_state=None, tol=0.0001, verbose=0)"
            ]
          },
          "metadata": {
            "tags": []
          },
          "execution_count": 41
        }
      ]
    },
    {
      "cell_type": "markdown",
      "metadata": {
        "id": "LGhTIx6xecJK"
      },
      "source": [
        "#Microtask 5"
      ]
    },
    {
      "cell_type": "code",
      "metadata": {
        "id": "p3IK2hxgd8ch"
      },
      "source": [
        "test_val = ['programming']\r\n",
        "test_val_transformed = tfidf1.transform(test_val)"
      ],
      "execution_count": null,
      "outputs": []
    },
    {
      "cell_type": "code",
      "metadata": {
        "colab": {
          "base_uri": "https://localhost:8080/"
        },
        "id": "IZ-BUArOfFTJ",
        "outputId": "0a08affd-ba76-4fb3-ca7b-38b80ce422a5"
      },
      "source": [
        "Kmean1.predict(test_val_transformed)"
      ],
      "execution_count": null,
      "outputs": [
        {
          "output_type": "execute_result",
          "data": {
            "text/plain": [
              "array([2], dtype=int32)"
            ]
          },
          "metadata": {
            "tags": []
          },
          "execution_count": 50
        }
      ]
    },
    {
      "cell_type": "code",
      "metadata": {
        "id": "FdJn5-LNfP8h"
      },
      "source": [
        "test_val = ['web development']\r\n",
        "test_val_transformed = tfidf2.transform(test_val)"
      ],
      "execution_count": null,
      "outputs": []
    },
    {
      "cell_type": "code",
      "metadata": {
        "colab": {
          "base_uri": "https://localhost:8080/"
        },
        "id": "rmhbGxB_gCHa",
        "outputId": "04494d91-7bd2-4fd8-e923-2a9597436b6a"
      },
      "source": [
        "Kmean2.predict(test_val_transformed)"
      ],
      "execution_count": null,
      "outputs": [
        {
          "output_type": "execute_result",
          "data": {
            "text/plain": [
              "array([0], dtype=int32)"
            ]
          },
          "metadata": {
            "tags": []
          },
          "execution_count": 52
        }
      ]
    }
  ]
}