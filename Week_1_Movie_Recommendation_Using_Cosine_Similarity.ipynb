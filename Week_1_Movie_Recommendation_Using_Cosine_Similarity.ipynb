{
  "nbformat": 4,
  "nbformat_minor": 0,
  "metadata": {
    "colab": {
      "name": "Week 1 - Movie Recommendation Using Cosine Similarity.ipynb",
      "provenance": [],
      "collapsed_sections": [],
      "authorship_tag": "ABX9TyNBH2KZCUgrVML8xP64jpVi",
      "include_colab_link": true
    },
    "kernelspec": {
      "display_name": "Python 3",
      "name": "python3"
    }
  },
  "cells": [
    {
      "cell_type": "markdown",
      "metadata": {
        "id": "view-in-github",
        "colab_type": "text"
      },
      "source": [
        "<a href=\"https://colab.research.google.com/github/C3Suryansu/Widhya-Winternship/blob/main/Week_1_Movie_Recommendation_Using_Cosine_Similarity.ipynb\" target=\"_parent\"><img src=\"https://colab.research.google.com/assets/colab-badge.svg\" alt=\"Open In Colab\"/></a>"
      ]
    },
    {
      "cell_type": "markdown",
      "metadata": {
        "id": "rBAGZwMs3nFD"
      },
      "source": [
        "#Microtask 1"
      ]
    },
    {
      "cell_type": "code",
      "metadata": {
        "colab": {
          "base_uri": "https://localhost:8080/",
          "height": 736
        },
        "id": "hf_AkKl40Ib_",
        "outputId": "fb9d227e-3fb6-4f15-e43a-63d0cad2b1c4"
      },
      "source": [
        "import pandas as pd\r\n",
        "df_movie = pd.read_csv('https://raw.githubusercontent.com/WidhyaOrg/datasets/master/movie_dataset.csv')\r\n",
        "df_movie.head()"
      ],
      "execution_count": null,
      "outputs": [
        {
          "output_type": "execute_result",
          "data": {
            "text/html": [
              "<div>\n",
              "<style scoped>\n",
              "    .dataframe tbody tr th:only-of-type {\n",
              "        vertical-align: middle;\n",
              "    }\n",
              "\n",
              "    .dataframe tbody tr th {\n",
              "        vertical-align: top;\n",
              "    }\n",
              "\n",
              "    .dataframe thead th {\n",
              "        text-align: right;\n",
              "    }\n",
              "</style>\n",
              "<table border=\"1\" class=\"dataframe\">\n",
              "  <thead>\n",
              "    <tr style=\"text-align: right;\">\n",
              "      <th></th>\n",
              "      <th>index</th>\n",
              "      <th>budget</th>\n",
              "      <th>genres</th>\n",
              "      <th>homepage</th>\n",
              "      <th>id</th>\n",
              "      <th>keywords</th>\n",
              "      <th>original_language</th>\n",
              "      <th>original_title</th>\n",
              "      <th>overview</th>\n",
              "      <th>popularity</th>\n",
              "      <th>production_companies</th>\n",
              "      <th>production_countries</th>\n",
              "      <th>release_date</th>\n",
              "      <th>revenue</th>\n",
              "      <th>runtime</th>\n",
              "      <th>spoken_languages</th>\n",
              "      <th>status</th>\n",
              "      <th>tagline</th>\n",
              "      <th>title</th>\n",
              "      <th>vote_average</th>\n",
              "      <th>vote_count</th>\n",
              "      <th>cast</th>\n",
              "      <th>crew</th>\n",
              "      <th>director</th>\n",
              "    </tr>\n",
              "  </thead>\n",
              "  <tbody>\n",
              "    <tr>\n",
              "      <th>0</th>\n",
              "      <td>0</td>\n",
              "      <td>237000000</td>\n",
              "      <td>Action Adventure Fantasy Science Fiction</td>\n",
              "      <td>http://www.avatarmovie.com/</td>\n",
              "      <td>19995</td>\n",
              "      <td>culture clash future space war space colony so...</td>\n",
              "      <td>en</td>\n",
              "      <td>Avatar</td>\n",
              "      <td>In the 22nd century, a paraplegic Marine is di...</td>\n",
              "      <td>150.437577</td>\n",
              "      <td>[{\"name\": \"Ingenious Film Partners\", \"id\": 289...</td>\n",
              "      <td>[{\"iso_3166_1\": \"US\", \"name\": \"United States o...</td>\n",
              "      <td>2009-12-10</td>\n",
              "      <td>2787965087</td>\n",
              "      <td>162.0</td>\n",
              "      <td>[{\"iso_639_1\": \"en\", \"name\": \"English\"}, {\"iso...</td>\n",
              "      <td>Released</td>\n",
              "      <td>Enter the World of Pandora.</td>\n",
              "      <td>Avatar</td>\n",
              "      <td>7.2</td>\n",
              "      <td>11800</td>\n",
              "      <td>Sam Worthington Zoe Saldana Sigourney Weaver S...</td>\n",
              "      <td>[{'name': 'Stephen E. Rivkin', 'gender': 0, 'd...</td>\n",
              "      <td>James Cameron</td>\n",
              "    </tr>\n",
              "    <tr>\n",
              "      <th>1</th>\n",
              "      <td>1</td>\n",
              "      <td>300000000</td>\n",
              "      <td>Adventure Fantasy Action</td>\n",
              "      <td>http://disney.go.com/disneypictures/pirates/</td>\n",
              "      <td>285</td>\n",
              "      <td>ocean drug abuse exotic island east india trad...</td>\n",
              "      <td>en</td>\n",
              "      <td>Pirates of the Caribbean: At World's End</td>\n",
              "      <td>Captain Barbossa, long believed to be dead, ha...</td>\n",
              "      <td>139.082615</td>\n",
              "      <td>[{\"name\": \"Walt Disney Pictures\", \"id\": 2}, {\"...</td>\n",
              "      <td>[{\"iso_3166_1\": \"US\", \"name\": \"United States o...</td>\n",
              "      <td>2007-05-19</td>\n",
              "      <td>961000000</td>\n",
              "      <td>169.0</td>\n",
              "      <td>[{\"iso_639_1\": \"en\", \"name\": \"English\"}]</td>\n",
              "      <td>Released</td>\n",
              "      <td>At the end of the world, the adventure begins.</td>\n",
              "      <td>Pirates of the Caribbean: At World's End</td>\n",
              "      <td>6.9</td>\n",
              "      <td>4500</td>\n",
              "      <td>Johnny Depp Orlando Bloom Keira Knightley Stel...</td>\n",
              "      <td>[{'name': 'Dariusz Wolski', 'gender': 2, 'depa...</td>\n",
              "      <td>Gore Verbinski</td>\n",
              "    </tr>\n",
              "    <tr>\n",
              "      <th>2</th>\n",
              "      <td>2</td>\n",
              "      <td>245000000</td>\n",
              "      <td>Action Adventure Crime</td>\n",
              "      <td>http://www.sonypictures.com/movies/spectre/</td>\n",
              "      <td>206647</td>\n",
              "      <td>spy based on novel secret agent sequel mi6</td>\n",
              "      <td>en</td>\n",
              "      <td>Spectre</td>\n",
              "      <td>A cryptic message from Bond’s past sends him o...</td>\n",
              "      <td>107.376788</td>\n",
              "      <td>[{\"name\": \"Columbia Pictures\", \"id\": 5}, {\"nam...</td>\n",
              "      <td>[{\"iso_3166_1\": \"GB\", \"name\": \"United Kingdom\"...</td>\n",
              "      <td>2015-10-26</td>\n",
              "      <td>880674609</td>\n",
              "      <td>148.0</td>\n",
              "      <td>[{\"iso_639_1\": \"fr\", \"name\": \"Fran\\u00e7ais\"},...</td>\n",
              "      <td>Released</td>\n",
              "      <td>A Plan No One Escapes</td>\n",
              "      <td>Spectre</td>\n",
              "      <td>6.3</td>\n",
              "      <td>4466</td>\n",
              "      <td>Daniel Craig Christoph Waltz L\\u00e9a Seydoux ...</td>\n",
              "      <td>[{'name': 'Thomas Newman', 'gender': 2, 'depar...</td>\n",
              "      <td>Sam Mendes</td>\n",
              "    </tr>\n",
              "    <tr>\n",
              "      <th>3</th>\n",
              "      <td>3</td>\n",
              "      <td>250000000</td>\n",
              "      <td>Action Crime Drama Thriller</td>\n",
              "      <td>http://www.thedarkknightrises.com/</td>\n",
              "      <td>49026</td>\n",
              "      <td>dc comics crime fighter terrorist secret ident...</td>\n",
              "      <td>en</td>\n",
              "      <td>The Dark Knight Rises</td>\n",
              "      <td>Following the death of District Attorney Harve...</td>\n",
              "      <td>112.312950</td>\n",
              "      <td>[{\"name\": \"Legendary Pictures\", \"id\": 923}, {\"...</td>\n",
              "      <td>[{\"iso_3166_1\": \"US\", \"name\": \"United States o...</td>\n",
              "      <td>2012-07-16</td>\n",
              "      <td>1084939099</td>\n",
              "      <td>165.0</td>\n",
              "      <td>[{\"iso_639_1\": \"en\", \"name\": \"English\"}]</td>\n",
              "      <td>Released</td>\n",
              "      <td>The Legend Ends</td>\n",
              "      <td>The Dark Knight Rises</td>\n",
              "      <td>7.6</td>\n",
              "      <td>9106</td>\n",
              "      <td>Christian Bale Michael Caine Gary Oldman Anne ...</td>\n",
              "      <td>[{'name': 'Hans Zimmer', 'gender': 2, 'departm...</td>\n",
              "      <td>Christopher Nolan</td>\n",
              "    </tr>\n",
              "    <tr>\n",
              "      <th>4</th>\n",
              "      <td>4</td>\n",
              "      <td>260000000</td>\n",
              "      <td>Action Adventure Science Fiction</td>\n",
              "      <td>http://movies.disney.com/john-carter</td>\n",
              "      <td>49529</td>\n",
              "      <td>based on novel mars medallion space travel pri...</td>\n",
              "      <td>en</td>\n",
              "      <td>John Carter</td>\n",
              "      <td>John Carter is a war-weary, former military ca...</td>\n",
              "      <td>43.926995</td>\n",
              "      <td>[{\"name\": \"Walt Disney Pictures\", \"id\": 2}]</td>\n",
              "      <td>[{\"iso_3166_1\": \"US\", \"name\": \"United States o...</td>\n",
              "      <td>2012-03-07</td>\n",
              "      <td>284139100</td>\n",
              "      <td>132.0</td>\n",
              "      <td>[{\"iso_639_1\": \"en\", \"name\": \"English\"}]</td>\n",
              "      <td>Released</td>\n",
              "      <td>Lost in our world, found in another.</td>\n",
              "      <td>John Carter</td>\n",
              "      <td>6.1</td>\n",
              "      <td>2124</td>\n",
              "      <td>Taylor Kitsch Lynn Collins Samantha Morton Wil...</td>\n",
              "      <td>[{'name': 'Andrew Stanton', 'gender': 2, 'depa...</td>\n",
              "      <td>Andrew Stanton</td>\n",
              "    </tr>\n",
              "  </tbody>\n",
              "</table>\n",
              "</div>"
            ],
            "text/plain": [
              "   index  ...           director\n",
              "0      0  ...      James Cameron\n",
              "1      1  ...     Gore Verbinski\n",
              "2      2  ...         Sam Mendes\n",
              "3      3  ...  Christopher Nolan\n",
              "4      4  ...     Andrew Stanton\n",
              "\n",
              "[5 rows x 24 columns]"
            ]
          },
          "metadata": {
            "tags": []
          },
          "execution_count": 67
        }
      ]
    },
    {
      "cell_type": "code",
      "metadata": {
        "id": "aVkE2KFOe5nM",
        "colab": {
          "base_uri": "https://localhost:8080/"
        },
        "outputId": "9f9c6ad0-1ac7-4bbe-ba43-20700d3fe68e"
      },
      "source": [
        "df_movie.iloc[[14]]['tagline']"
      ],
      "execution_count": null,
      "outputs": [
        {
          "output_type": "execute_result",
          "data": {
            "text/plain": [
              "14    You will believe that a man can fly.\n",
              "Name: tagline, dtype: object"
            ]
          },
          "metadata": {
            "tags": []
          },
          "execution_count": 68
        }
      ]
    },
    {
      "cell_type": "markdown",
      "metadata": {
        "id": "3muWwPrD4MJU"
      },
      "source": [
        "#Microtask 2"
      ]
    },
    {
      "cell_type": "code",
      "metadata": {
        "id": "3glw5k-B32-H"
      },
      "source": [
        "final_data = df_movie[['keywords', 'cast', 'genres', 'director']]"
      ],
      "execution_count": null,
      "outputs": []
    },
    {
      "cell_type": "code",
      "metadata": {
        "colab": {
          "base_uri": "https://localhost:8080/"
        },
        "id": "xZqm7LKQ_cOJ",
        "outputId": "152afe3c-286f-41e3-b9af-2b1422c4b0ed"
      },
      "source": [
        "final_data.isnull().sum()"
      ],
      "execution_count": null,
      "outputs": [
        {
          "output_type": "execute_result",
          "data": {
            "text/plain": [
              "keywords    412\n",
              "cast         43\n",
              "genres       28\n",
              "director     30\n",
              "dtype: int64"
            ]
          },
          "metadata": {
            "tags": []
          },
          "execution_count": 70
        }
      ]
    },
    {
      "cell_type": "code",
      "metadata": {
        "colab": {
          "base_uri": "https://localhost:8080/",
          "height": 402
        },
        "id": "7q2bM5yRALWb",
        "outputId": "62313531-06d2-4dde-f4a8-bc2993cd901d"
      },
      "source": [
        "final_data.fillna(\"\")"
      ],
      "execution_count": null,
      "outputs": [
        {
          "output_type": "execute_result",
          "data": {
            "text/html": [
              "<div>\n",
              "<style scoped>\n",
              "    .dataframe tbody tr th:only-of-type {\n",
              "        vertical-align: middle;\n",
              "    }\n",
              "\n",
              "    .dataframe tbody tr th {\n",
              "        vertical-align: top;\n",
              "    }\n",
              "\n",
              "    .dataframe thead th {\n",
              "        text-align: right;\n",
              "    }\n",
              "</style>\n",
              "<table border=\"1\" class=\"dataframe\">\n",
              "  <thead>\n",
              "    <tr style=\"text-align: right;\">\n",
              "      <th></th>\n",
              "      <th>keywords</th>\n",
              "      <th>cast</th>\n",
              "      <th>genres</th>\n",
              "      <th>director</th>\n",
              "    </tr>\n",
              "  </thead>\n",
              "  <tbody>\n",
              "    <tr>\n",
              "      <th>0</th>\n",
              "      <td>culture clash future space war space colony so...</td>\n",
              "      <td>Sam Worthington Zoe Saldana Sigourney Weaver S...</td>\n",
              "      <td>Action Adventure Fantasy Science Fiction</td>\n",
              "      <td>James Cameron</td>\n",
              "    </tr>\n",
              "    <tr>\n",
              "      <th>1</th>\n",
              "      <td>ocean drug abuse exotic island east india trad...</td>\n",
              "      <td>Johnny Depp Orlando Bloom Keira Knightley Stel...</td>\n",
              "      <td>Adventure Fantasy Action</td>\n",
              "      <td>Gore Verbinski</td>\n",
              "    </tr>\n",
              "    <tr>\n",
              "      <th>2</th>\n",
              "      <td>spy based on novel secret agent sequel mi6</td>\n",
              "      <td>Daniel Craig Christoph Waltz L\\u00e9a Seydoux ...</td>\n",
              "      <td>Action Adventure Crime</td>\n",
              "      <td>Sam Mendes</td>\n",
              "    </tr>\n",
              "    <tr>\n",
              "      <th>3</th>\n",
              "      <td>dc comics crime fighter terrorist secret ident...</td>\n",
              "      <td>Christian Bale Michael Caine Gary Oldman Anne ...</td>\n",
              "      <td>Action Crime Drama Thriller</td>\n",
              "      <td>Christopher Nolan</td>\n",
              "    </tr>\n",
              "    <tr>\n",
              "      <th>4</th>\n",
              "      <td>based on novel mars medallion space travel pri...</td>\n",
              "      <td>Taylor Kitsch Lynn Collins Samantha Morton Wil...</td>\n",
              "      <td>Action Adventure Science Fiction</td>\n",
              "      <td>Andrew Stanton</td>\n",
              "    </tr>\n",
              "    <tr>\n",
              "      <th>...</th>\n",
              "      <td>...</td>\n",
              "      <td>...</td>\n",
              "      <td>...</td>\n",
              "      <td>...</td>\n",
              "    </tr>\n",
              "    <tr>\n",
              "      <th>4798</th>\n",
              "      <td>united states\\u2013mexico barrier legs arms pa...</td>\n",
              "      <td>Carlos Gallardo Jaime de Hoyos Peter Marquardt...</td>\n",
              "      <td>Action Crime Thriller</td>\n",
              "      <td>Robert Rodriguez</td>\n",
              "    </tr>\n",
              "    <tr>\n",
              "      <th>4799</th>\n",
              "      <td></td>\n",
              "      <td>Edward Burns Kerry Bish\\u00e9 Marsha Dietlein ...</td>\n",
              "      <td>Comedy Romance</td>\n",
              "      <td>Edward Burns</td>\n",
              "    </tr>\n",
              "    <tr>\n",
              "      <th>4800</th>\n",
              "      <td>date love at first sight narration investigati...</td>\n",
              "      <td>Eric Mabius Kristin Booth Crystal Lowe Geoff G...</td>\n",
              "      <td>Comedy Drama Romance TV Movie</td>\n",
              "      <td>Scott Smith</td>\n",
              "    </tr>\n",
              "    <tr>\n",
              "      <th>4801</th>\n",
              "      <td></td>\n",
              "      <td>Daniel Henney Eliza Coupe Bill Paxton Alan Ruc...</td>\n",
              "      <td></td>\n",
              "      <td>Daniel Hsia</td>\n",
              "    </tr>\n",
              "    <tr>\n",
              "      <th>4802</th>\n",
              "      <td>obsession camcorder crush dream girl</td>\n",
              "      <td>Drew Barrymore Brian Herzlinger Corey Feldman ...</td>\n",
              "      <td>Documentary</td>\n",
              "      <td>Brian Herzlinger</td>\n",
              "    </tr>\n",
              "  </tbody>\n",
              "</table>\n",
              "<p>4803 rows × 4 columns</p>\n",
              "</div>"
            ],
            "text/plain": [
              "                                               keywords  ...           director\n",
              "0     culture clash future space war space colony so...  ...      James Cameron\n",
              "1     ocean drug abuse exotic island east india trad...  ...     Gore Verbinski\n",
              "2            spy based on novel secret agent sequel mi6  ...         Sam Mendes\n",
              "3     dc comics crime fighter terrorist secret ident...  ...  Christopher Nolan\n",
              "4     based on novel mars medallion space travel pri...  ...     Andrew Stanton\n",
              "...                                                 ...  ...                ...\n",
              "4798  united states\\u2013mexico barrier legs arms pa...  ...   Robert Rodriguez\n",
              "4799                                                     ...       Edward Burns\n",
              "4800  date love at first sight narration investigati...  ...        Scott Smith\n",
              "4801                                                     ...        Daniel Hsia\n",
              "4802               obsession camcorder crush dream girl  ...   Brian Herzlinger\n",
              "\n",
              "[4803 rows x 4 columns]"
            ]
          },
          "metadata": {
            "tags": []
          },
          "execution_count": 71
        }
      ]
    },
    {
      "cell_type": "code",
      "metadata": {
        "colab": {
          "base_uri": "https://localhost:8080/",
          "height": 402
        },
        "id": "FJ9kK5cKLEn4",
        "outputId": "40694002-5183-4d39-ef23-855f8b1fae69"
      },
      "source": [
        "final_data[final_data.columns]"
      ],
      "execution_count": null,
      "outputs": [
        {
          "output_type": "execute_result",
          "data": {
            "text/html": [
              "<div>\n",
              "<style scoped>\n",
              "    .dataframe tbody tr th:only-of-type {\n",
              "        vertical-align: middle;\n",
              "    }\n",
              "\n",
              "    .dataframe tbody tr th {\n",
              "        vertical-align: top;\n",
              "    }\n",
              "\n",
              "    .dataframe thead th {\n",
              "        text-align: right;\n",
              "    }\n",
              "</style>\n",
              "<table border=\"1\" class=\"dataframe\">\n",
              "  <thead>\n",
              "    <tr style=\"text-align: right;\">\n",
              "      <th></th>\n",
              "      <th>keywords</th>\n",
              "      <th>cast</th>\n",
              "      <th>genres</th>\n",
              "      <th>director</th>\n",
              "    </tr>\n",
              "  </thead>\n",
              "  <tbody>\n",
              "    <tr>\n",
              "      <th>0</th>\n",
              "      <td>culture clash future space war space colony so...</td>\n",
              "      <td>Sam Worthington Zoe Saldana Sigourney Weaver S...</td>\n",
              "      <td>Action Adventure Fantasy Science Fiction</td>\n",
              "      <td>James Cameron</td>\n",
              "    </tr>\n",
              "    <tr>\n",
              "      <th>1</th>\n",
              "      <td>ocean drug abuse exotic island east india trad...</td>\n",
              "      <td>Johnny Depp Orlando Bloom Keira Knightley Stel...</td>\n",
              "      <td>Adventure Fantasy Action</td>\n",
              "      <td>Gore Verbinski</td>\n",
              "    </tr>\n",
              "    <tr>\n",
              "      <th>2</th>\n",
              "      <td>spy based on novel secret agent sequel mi6</td>\n",
              "      <td>Daniel Craig Christoph Waltz L\\u00e9a Seydoux ...</td>\n",
              "      <td>Action Adventure Crime</td>\n",
              "      <td>Sam Mendes</td>\n",
              "    </tr>\n",
              "    <tr>\n",
              "      <th>3</th>\n",
              "      <td>dc comics crime fighter terrorist secret ident...</td>\n",
              "      <td>Christian Bale Michael Caine Gary Oldman Anne ...</td>\n",
              "      <td>Action Crime Drama Thriller</td>\n",
              "      <td>Christopher Nolan</td>\n",
              "    </tr>\n",
              "    <tr>\n",
              "      <th>4</th>\n",
              "      <td>based on novel mars medallion space travel pri...</td>\n",
              "      <td>Taylor Kitsch Lynn Collins Samantha Morton Wil...</td>\n",
              "      <td>Action Adventure Science Fiction</td>\n",
              "      <td>Andrew Stanton</td>\n",
              "    </tr>\n",
              "    <tr>\n",
              "      <th>...</th>\n",
              "      <td>...</td>\n",
              "      <td>...</td>\n",
              "      <td>...</td>\n",
              "      <td>...</td>\n",
              "    </tr>\n",
              "    <tr>\n",
              "      <th>4798</th>\n",
              "      <td>united states\\u2013mexico barrier legs arms pa...</td>\n",
              "      <td>Carlos Gallardo Jaime de Hoyos Peter Marquardt...</td>\n",
              "      <td>Action Crime Thriller</td>\n",
              "      <td>Robert Rodriguez</td>\n",
              "    </tr>\n",
              "    <tr>\n",
              "      <th>4799</th>\n",
              "      <td>NaN</td>\n",
              "      <td>Edward Burns Kerry Bish\\u00e9 Marsha Dietlein ...</td>\n",
              "      <td>Comedy Romance</td>\n",
              "      <td>Edward Burns</td>\n",
              "    </tr>\n",
              "    <tr>\n",
              "      <th>4800</th>\n",
              "      <td>date love at first sight narration investigati...</td>\n",
              "      <td>Eric Mabius Kristin Booth Crystal Lowe Geoff G...</td>\n",
              "      <td>Comedy Drama Romance TV Movie</td>\n",
              "      <td>Scott Smith</td>\n",
              "    </tr>\n",
              "    <tr>\n",
              "      <th>4801</th>\n",
              "      <td>NaN</td>\n",
              "      <td>Daniel Henney Eliza Coupe Bill Paxton Alan Ruc...</td>\n",
              "      <td>NaN</td>\n",
              "      <td>Daniel Hsia</td>\n",
              "    </tr>\n",
              "    <tr>\n",
              "      <th>4802</th>\n",
              "      <td>obsession camcorder crush dream girl</td>\n",
              "      <td>Drew Barrymore Brian Herzlinger Corey Feldman ...</td>\n",
              "      <td>Documentary</td>\n",
              "      <td>Brian Herzlinger</td>\n",
              "    </tr>\n",
              "  </tbody>\n",
              "</table>\n",
              "<p>4803 rows × 4 columns</p>\n",
              "</div>"
            ],
            "text/plain": [
              "                                               keywords  ...           director\n",
              "0     culture clash future space war space colony so...  ...      James Cameron\n",
              "1     ocean drug abuse exotic island east india trad...  ...     Gore Verbinski\n",
              "2            spy based on novel secret agent sequel mi6  ...         Sam Mendes\n",
              "3     dc comics crime fighter terrorist secret ident...  ...  Christopher Nolan\n",
              "4     based on novel mars medallion space travel pri...  ...     Andrew Stanton\n",
              "...                                                 ...  ...                ...\n",
              "4798  united states\\u2013mexico barrier legs arms pa...  ...   Robert Rodriguez\n",
              "4799                                                NaN  ...       Edward Burns\n",
              "4800  date love at first sight narration investigati...  ...        Scott Smith\n",
              "4801                                                NaN  ...        Daniel Hsia\n",
              "4802               obsession camcorder crush dream girl  ...   Brian Herzlinger\n",
              "\n",
              "[4803 rows x 4 columns]"
            ]
          },
          "metadata": {
            "tags": []
          },
          "execution_count": 72
        }
      ]
    },
    {
      "cell_type": "code",
      "metadata": {
        "id": "2ULxtQ_vBhyq"
      },
      "source": [
        "def combine_feature(df):\r\n",
        "  df['comb_data'] = df[df.columns[0:]].apply(\r\n",
        "    lambda x: ''.join(x.dropna().astype(str)),\r\n",
        "    axis=1)\r\n",
        "  return df"
      ],
      "execution_count": null,
      "outputs": []
    },
    {
      "cell_type": "code",
      "metadata": {
        "colab": {
          "base_uri": "https://localhost:8080/"
        },
        "id": "WWtklhNGLoT1",
        "outputId": "60000e52-7775-43fe-b480-7385851b7756"
      },
      "source": [
        "final_data_1 = combine_feature(final_data)"
      ],
      "execution_count": null,
      "outputs": [
        {
          "output_type": "stream",
          "text": [
            "/usr/local/lib/python3.6/dist-packages/ipykernel_launcher.py:4: SettingWithCopyWarning: \n",
            "A value is trying to be set on a copy of a slice from a DataFrame.\n",
            "Try using .loc[row_indexer,col_indexer] = value instead\n",
            "\n",
            "See the caveats in the documentation: https://pandas.pydata.org/pandas-docs/stable/user_guide/indexing.html#returning-a-view-versus-a-copy\n",
            "  after removing the cwd from sys.path.\n"
          ],
          "name": "stderr"
        }
      ]
    },
    {
      "cell_type": "code",
      "metadata": {
        "colab": {
          "base_uri": "https://localhost:8080/",
          "height": 52
        },
        "id": "0aqESIpjLvWP",
        "outputId": "e4404cd2-3ce2-4545-c936-8e7bcd05c162"
      },
      "source": [
        "final_data_1.iloc[1]['comb_data']"
      ],
      "execution_count": null,
      "outputs": [
        {
          "output_type": "execute_result",
          "data": {
            "application/vnd.google.colaboratory.intrinsic+json": {
              "type": "string"
            },
            "text/plain": [
              "\"ocean drug abuse exotic island east india trading company love of one's lifeJohnny Depp Orlando Bloom Keira Knightley Stellan Skarsg\\\\u00e5rd Chow Yun-fatAdventure Fantasy ActionGore Verbinski\""
            ]
          },
          "metadata": {
            "tags": []
          },
          "execution_count": 75
        }
      ]
    },
    {
      "cell_type": "markdown",
      "metadata": {
        "id": "qVo-lOgKTDkk"
      },
      "source": [
        "#Microtask 3"
      ]
    },
    {
      "cell_type": "code",
      "metadata": {
        "id": "ooTJXzSFL1Pl"
      },
      "source": [
        "from sklearn.feature_extraction.text import CountVectorizer\r\n",
        "count_vectorizer = CountVectorizer()\r\n",
        "sparse_matrix = count_vectorizer.fit_transform(final_data['comb_data'])"
      ],
      "execution_count": null,
      "outputs": []
    },
    {
      "cell_type": "code",
      "metadata": {
        "id": "qZilUXQQYVf9"
      },
      "source": [
        "doc_term_matrix = sparse_matrix.todense()"
      ],
      "execution_count": null,
      "outputs": []
    },
    {
      "cell_type": "code",
      "metadata": {
        "id": "77adKZjCYW-T"
      },
      "source": [
        "df = pd.DataFrame(doc_term_matrix, \r\n",
        "                  columns=count_vectorizer.get_feature_names())"
      ],
      "execution_count": null,
      "outputs": []
    },
    {
      "cell_type": "code",
      "metadata": {
        "colab": {
          "base_uri": "https://localhost:8080/"
        },
        "id": "UalL9398Y_0O",
        "outputId": "ed268d95-1e58-459b-c399-f96eedfc1117"
      },
      "source": [
        "from sklearn.metrics.pairwise import cosine_similarity\r\n",
        "print(cosine_similarity(df, df))"
      ],
      "execution_count": null,
      "outputs": [
        {
          "output_type": "stream",
          "text": [
            "[[1.         0.03928371 0.04564355 ... 0.         0.         0.        ]\n",
            " [0.03928371 1.         0.         ... 0.0410305  0.         0.        ]\n",
            " [0.04564355 0.         1.         ... 0.         0.         0.        ]\n",
            " ...\n",
            " [0.         0.0410305  0.         ... 1.         0.         0.        ]\n",
            " [0.         0.         0.         ... 0.         1.         0.        ]\n",
            " [0.         0.         0.         ... 0.         0.         1.        ]]\n"
          ],
          "name": "stdout"
        }
      ]
    },
    {
      "cell_type": "code",
      "metadata": {
        "colab": {
          "base_uri": "https://localhost:8080/"
        },
        "id": "dk8yeouBi9Ph",
        "outputId": "1f87edc3-4979-49ba-be65-e988d9f24559"
      },
      "source": [
        "print(cosine_similarity(sparse_matrix))"
      ],
      "execution_count": null,
      "outputs": [
        {
          "output_type": "stream",
          "text": [
            "[[1.         0.03928371 0.04564355 ... 0.         0.         0.        ]\n",
            " [0.03928371 1.         0.         ... 0.0410305  0.         0.        ]\n",
            " [0.04564355 0.         1.         ... 0.         0.         0.        ]\n",
            " ...\n",
            " [0.         0.0410305  0.         ... 1.         0.         0.        ]\n",
            " [0.         0.         0.         ... 0.         1.         0.        ]\n",
            " [0.         0.         0.         ... 0.         0.         1.        ]]\n"
          ],
          "name": "stdout"
        }
      ]
    },
    {
      "cell_type": "markdown",
      "metadata": {
        "id": "Mlgtmt8ZcdDj"
      },
      "source": [
        "#Microtask 4"
      ]
    },
    {
      "cell_type": "code",
      "metadata": {
        "id": "0oPqBImqct-_"
      },
      "source": [
        "def get_index(name, dframe):\r\n",
        "  return dframe.index[dframe['title'] == name].tolist()[0]"
      ],
      "execution_count": null,
      "outputs": []
    },
    {
      "cell_type": "code",
      "metadata": {
        "colab": {
          "base_uri": "https://localhost:8080/"
        },
        "id": "1ESRXZyxfFRq",
        "outputId": "333aff0f-9b98-4dee-a90c-14b0dc112557"
      },
      "source": [
        "get_index('Avatar', df_movie)"
      ],
      "execution_count": null,
      "outputs": [
        {
          "output_type": "execute_result",
          "data": {
            "text/plain": [
              "0"
            ]
          },
          "metadata": {
            "tags": []
          },
          "execution_count": 91
        }
      ]
    },
    {
      "cell_type": "code",
      "metadata": {
        "id": "BBdCcObRfKg4"
      },
      "source": [
        "def get_title(index, dframe):\r\n",
        "  return dframe.iloc[[index]]['title'].values[0]"
      ],
      "execution_count": null,
      "outputs": []
    },
    {
      "cell_type": "code",
      "metadata": {
        "colab": {
          "base_uri": "https://localhost:8080/",
          "height": 35
        },
        "id": "SD5dO9y5f-HD",
        "outputId": "17225f2c-2f05-46ab-c928-a731f6c14cd2"
      },
      "source": [
        "get_title(15, df_movie)"
      ],
      "execution_count": null,
      "outputs": [
        {
          "output_type": "execute_result",
          "data": {
            "application/vnd.google.colaboratory.intrinsic+json": {
              "type": "string"
            },
            "text/plain": [
              "'The Chronicles of Narnia: Prince Caspian'"
            ]
          },
          "metadata": {
            "tags": []
          },
          "execution_count": 104
        }
      ]
    },
    {
      "cell_type": "code",
      "metadata": {
        "id": "UI0giWpGiBC5"
      },
      "source": [
        "cosine_sim = cosine_similarity(sparse_matrix)"
      ],
      "execution_count": null,
      "outputs": []
    },
    {
      "cell_type": "code",
      "metadata": {
        "colab": {
          "base_uri": "https://localhost:8080/"
        },
        "id": "0-5Y9AHcmk-2",
        "outputId": "9d311441-4d7c-4517-cd77-6e5f4396cbda"
      },
      "source": [
        "movie_query = \"Star Wars: Clone Wars: Volume 1\" #input(\"Enter name of movie you want similar recommendations to: \")\r\n",
        "ind = get_index(movie_query, df_movie)\r\n",
        "similar_movies = []\r\n",
        "for i in range(len(cosine_sim[ind])):\r\n",
        "  similar_movies.append((i, cosine_sim[ind][i]))\r\n",
        "similar_movies = sorted(similar_movies, key = lambda x:x[1], reverse = True)\r\n",
        "n = 5 #int(input(\"Enter number of similar recommendations you would like to have: \"))\r\n",
        "print(\"Top {n} movies similar to {movie_query} are: \\n\".format(n = n, movie_query = movie_query))\r\n",
        "for i in range(1, n + 1):\r\n",
        "  print(get_title(similar_movies[i][0], df_movie))"
      ],
      "execution_count": null,
      "outputs": [
        {
          "output_type": "stream",
          "text": [
            "Top 5 movies similar to Star Wars: Clone Wars: Volume 1 are: \n",
            "\n",
            "Atlantis: The Lost Empire\n",
            "Avatar\n",
            "The Covenant\n",
            "The Iron Giant\n",
            "Space Cowboys\n"
          ],
          "name": "stdout"
        }
      ]
    }
  ]
}