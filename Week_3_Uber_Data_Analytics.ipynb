{
  "nbformat": 4,
  "nbformat_minor": 0,
  "metadata": {
    "colab": {
      "name": "Week 3 - Uber Data Analytics.ipynb",
      "provenance": [],
      "authorship_tag": "ABX9TyPoIYAlfo2T0qmBcej5P0V3",
      "include_colab_link": true
    },
    "kernelspec": {
      "name": "python3",
      "display_name": "Python 3"
    },
    "accelerator": "GPU"
  },
  "cells": [
    {
      "cell_type": "markdown",
      "metadata": {
        "id": "view-in-github",
        "colab_type": "text"
      },
      "source": [
        "<a href=\"https://colab.research.google.com/github/C3Suryansu/Widhya-Winternship/blob/main/Week_3_Uber_Data_Analytics.ipynb\" target=\"_parent\"><img src=\"https://colab.research.google.com/assets/colab-badge.svg\" alt=\"Open In Colab\"/></a>"
      ]
    },
    {
      "cell_type": "markdown",
      "metadata": {
        "id": "Mot-63OakIYm"
      },
      "source": [
        "#Importing and reading files"
      ]
    },
    {
      "cell_type": "code",
      "metadata": {
        "colab": {
          "base_uri": "https://localhost:8080/"
        },
        "id": "538wroewg1nb",
        "outputId": "bc8fa310-306a-4c85-9fbf-c78a62b6676b"
      },
      "source": [
        "from google.colab import drive\r\n",
        "drive.mount('/content/drive')"
      ],
      "execution_count": null,
      "outputs": [
        {
          "output_type": "stream",
          "text": [
            "Mounted at /content/drive\n"
          ],
          "name": "stdout"
        }
      ]
    },
    {
      "cell_type": "code",
      "metadata": {
        "colab": {
          "base_uri": "https://localhost:8080/"
        },
        "id": "oGzsDqa0jAMy",
        "outputId": "06f318cd-00b5-4461-982b-754c8c24ad30"
      },
      "source": [
        "!mkdir uber_data\r\n",
        "%cd uber_data\r\n",
        "!unzip /content/drive/MyDrive/Uber-dataset.zip"
      ],
      "execution_count": null,
      "outputs": [
        {
          "output_type": "stream",
          "text": [
            "/content/uber_data\n",
            "Archive:  /content/drive/MyDrive/Uber-dataset.zip\n",
            "   creating: Uber-dataset/\n",
            "  inflating: Uber-dataset/uber-raw-data-apr14.csv.zip  \n",
            "  inflating: Uber-dataset/uber-raw-data-aug14.csv.zip  \n",
            "  inflating: Uber-dataset/uber-raw-data-jul14.csv.zip  \n",
            "  inflating: Uber-dataset/uber-raw-data-jun14.csv.zip  \n",
            "  inflating: Uber-dataset/uber-raw-data-may14.csv.zip  \n",
            "  inflating: Uber-dataset/uber-raw-data-sep14.csv.zip  \n"
          ],
          "name": "stdout"
        }
      ]
    },
    {
      "cell_type": "code",
      "metadata": {
        "colab": {
          "base_uri": "https://localhost:8080/"
        },
        "id": "lOs7iMVpkCmZ",
        "outputId": "99ba65ca-b88f-4ba7-f911-b1ad83a5ce80"
      },
      "source": [
        "%cd Uber-dataset"
      ],
      "execution_count": null,
      "outputs": [
        {
          "output_type": "stream",
          "text": [
            "/content/uber_data/Uber-dataset\n"
          ],
          "name": "stdout"
        }
      ]
    },
    {
      "cell_type": "code",
      "metadata": {
        "id": "955_d3fNk813"
      },
      "source": [
        "!mkdir /content/uber"
      ],
      "execution_count": null,
      "outputs": []
    },
    {
      "cell_type": "code",
      "metadata": {
        "colab": {
          "base_uri": "https://localhost:8080/"
        },
        "id": "omKgbUVykHJa",
        "outputId": "68c59ed7-c279-49ff-fab8-72520c403d18"
      },
      "source": [
        "!unzip /content/uber_data/Uber-dataset/uber-raw-data-apr14.csv.zip -d /content/uber\r\n",
        "!unzip /content/uber_data/Uber-dataset/uber-raw-data-aug14.csv.zip -d /content/uber\r\n",
        "!unzip /content/uber_data/Uber-dataset/uber-raw-data-jul14.csv.zip -d /content/uber\r\n",
        "!unzip /content/uber_data/Uber-dataset/uber-raw-data-jun14.csv.zip -d /content/uber\r\n",
        "!unzip /content/uber_data/Uber-dataset/uber-raw-data-may14.csv.zip -d /content/uber\r\n",
        "!unzip /content/uber_data/Uber-dataset/uber-raw-data-sep14.csv.zip -d /content/uber"
      ],
      "execution_count": null,
      "outputs": [
        {
          "output_type": "stream",
          "text": [
            "Archive:  /content/uber_data/Uber-dataset/uber-raw-data-apr14.csv.zip\n",
            "  inflating: /content/uber/uber-raw-data-apr14.csv  \n",
            "Archive:  /content/uber_data/Uber-dataset/uber-raw-data-aug14.csv.zip\n",
            "  inflating: /content/uber/uber-raw-data-aug14.csv  \n",
            "Archive:  /content/uber_data/Uber-dataset/uber-raw-data-jul14.csv.zip\n",
            "  inflating: /content/uber/uber-raw-data-jul14.csv  \n",
            "Archive:  /content/uber_data/Uber-dataset/uber-raw-data-jun14.csv.zip\n",
            "  inflating: /content/uber/uber-raw-data-jun14.csv  \n",
            "Archive:  /content/uber_data/Uber-dataset/uber-raw-data-may14.csv.zip\n",
            "  inflating: /content/uber/uber-raw-data-may14.csv  \n",
            "Archive:  /content/uber_data/Uber-dataset/uber-raw-data-sep14.csv.zip\n",
            "  inflating: /content/uber/uber-raw-data-sep14.csv  \n"
          ],
          "name": "stdout"
        }
      ]
    },
    {
      "cell_type": "code",
      "metadata": {
        "colab": {
          "base_uri": "https://localhost:8080/"
        },
        "id": "vzSScbIykhPZ",
        "outputId": "3c97aace-2b4b-4df0-cdf8-b828ca332a73"
      },
      "source": [
        "%cd /content/uber"
      ],
      "execution_count": null,
      "outputs": [
        {
          "output_type": "stream",
          "text": [
            "/content/uber\n"
          ],
          "name": "stdout"
        }
      ]
    },
    {
      "cell_type": "markdown",
      "metadata": {
        "id": "kiAvlPs1ltnf"
      },
      "source": [
        "#Microtask 1"
      ]
    },
    {
      "cell_type": "markdown",
      "metadata": {
        "id": "-OH6MQHUrfDH"
      },
      "source": [
        "##Merging the Datasets"
      ]
    },
    {
      "cell_type": "code",
      "metadata": {
        "id": "HWgYQSE7krBH"
      },
      "source": [
        "import pandas as pd\r\n",
        "import matplotlib.pyplot as plt"
      ],
      "execution_count": null,
      "outputs": []
    },
    {
      "cell_type": "code",
      "metadata": {
        "colab": {
          "base_uri": "https://localhost:8080/",
          "height": 195
        },
        "id": "sNOGVxt6pwpn",
        "outputId": "6a411895-47a6-4c79-c98b-c77dcd44ff77"
      },
      "source": [
        "df1 = pd.read_csv('/content/uber/uber-raw-data-apr14.csv')\r\n",
        "df1.head()"
      ],
      "execution_count": null,
      "outputs": [
        {
          "output_type": "execute_result",
          "data": {
            "text/html": [
              "<div>\n",
              "<style scoped>\n",
              "    .dataframe tbody tr th:only-of-type {\n",
              "        vertical-align: middle;\n",
              "    }\n",
              "\n",
              "    .dataframe tbody tr th {\n",
              "        vertical-align: top;\n",
              "    }\n",
              "\n",
              "    .dataframe thead th {\n",
              "        text-align: right;\n",
              "    }\n",
              "</style>\n",
              "<table border=\"1\" class=\"dataframe\">\n",
              "  <thead>\n",
              "    <tr style=\"text-align: right;\">\n",
              "      <th></th>\n",
              "      <th>Date/Time</th>\n",
              "      <th>Lat</th>\n",
              "      <th>Lon</th>\n",
              "      <th>Base</th>\n",
              "    </tr>\n",
              "  </thead>\n",
              "  <tbody>\n",
              "    <tr>\n",
              "      <th>0</th>\n",
              "      <td>4/1/2014 0:11:00</td>\n",
              "      <td>40.7690</td>\n",
              "      <td>-73.9549</td>\n",
              "      <td>B02512</td>\n",
              "    </tr>\n",
              "    <tr>\n",
              "      <th>1</th>\n",
              "      <td>4/1/2014 0:17:00</td>\n",
              "      <td>40.7267</td>\n",
              "      <td>-74.0345</td>\n",
              "      <td>B02512</td>\n",
              "    </tr>\n",
              "    <tr>\n",
              "      <th>2</th>\n",
              "      <td>4/1/2014 0:21:00</td>\n",
              "      <td>40.7316</td>\n",
              "      <td>-73.9873</td>\n",
              "      <td>B02512</td>\n",
              "    </tr>\n",
              "    <tr>\n",
              "      <th>3</th>\n",
              "      <td>4/1/2014 0:28:00</td>\n",
              "      <td>40.7588</td>\n",
              "      <td>-73.9776</td>\n",
              "      <td>B02512</td>\n",
              "    </tr>\n",
              "    <tr>\n",
              "      <th>4</th>\n",
              "      <td>4/1/2014 0:33:00</td>\n",
              "      <td>40.7594</td>\n",
              "      <td>-73.9722</td>\n",
              "      <td>B02512</td>\n",
              "    </tr>\n",
              "  </tbody>\n",
              "</table>\n",
              "</div>"
            ],
            "text/plain": [
              "          Date/Time      Lat      Lon    Base\n",
              "0  4/1/2014 0:11:00  40.7690 -73.9549  B02512\n",
              "1  4/1/2014 0:17:00  40.7267 -74.0345  B02512\n",
              "2  4/1/2014 0:21:00  40.7316 -73.9873  B02512\n",
              "3  4/1/2014 0:28:00  40.7588 -73.9776  B02512\n",
              "4  4/1/2014 0:33:00  40.7594 -73.9722  B02512"
            ]
          },
          "metadata": {
            "tags": []
          },
          "execution_count": 8
        }
      ]
    },
    {
      "cell_type": "code",
      "metadata": {
        "id": "1-VTShtQqRud"
      },
      "source": [
        "df2 = pd.read_csv('/content/uber/uber-raw-data-may14.csv')\r\n",
        "df3 = pd.read_csv('/content/uber/uber-raw-data-jun14.csv')\r\n",
        "df4 = pd.read_csv('/content/uber/uber-raw-data-jul14.csv')\r\n",
        "df5 = pd.read_csv('/content/uber/uber-raw-data-aug14.csv')\r\n",
        "df6 = pd.read_csv('/content/uber/uber-raw-data-sep14.csv')"
      ],
      "execution_count": null,
      "outputs": []
    },
    {
      "cell_type": "code",
      "metadata": {
        "id": "JWbPNsG8qXRJ"
      },
      "source": [
        "result = pd.concat([df1, df2, df3, df4, df5, df6], ignore_index=True)"
      ],
      "execution_count": null,
      "outputs": []
    },
    {
      "cell_type": "code",
      "metadata": {
        "colab": {
          "base_uri": "https://localhost:8080/"
        },
        "id": "-NsgQlG4rWH8",
        "outputId": "20a6a83a-5269-4427-b9fb-a20d76443399"
      },
      "source": [
        "result.head()\r\n",
        "result.shape"
      ],
      "execution_count": null,
      "outputs": [
        {
          "output_type": "execute_result",
          "data": {
            "text/plain": [
              "(4534327, 4)"
            ]
          },
          "metadata": {
            "tags": []
          },
          "execution_count": 11
        }
      ]
    },
    {
      "cell_type": "code",
      "metadata": {
        "colab": {
          "base_uri": "https://localhost:8080/",
          "height": 195
        },
        "id": "jlRS8HhnrXQ-",
        "outputId": "eb473411-2f57-43c2-d5b4-30b68932c888"
      },
      "source": [
        "result.tail()"
      ],
      "execution_count": null,
      "outputs": [
        {
          "output_type": "execute_result",
          "data": {
            "text/html": [
              "<div>\n",
              "<style scoped>\n",
              "    .dataframe tbody tr th:only-of-type {\n",
              "        vertical-align: middle;\n",
              "    }\n",
              "\n",
              "    .dataframe tbody tr th {\n",
              "        vertical-align: top;\n",
              "    }\n",
              "\n",
              "    .dataframe thead th {\n",
              "        text-align: right;\n",
              "    }\n",
              "</style>\n",
              "<table border=\"1\" class=\"dataframe\">\n",
              "  <thead>\n",
              "    <tr style=\"text-align: right;\">\n",
              "      <th></th>\n",
              "      <th>Date/Time</th>\n",
              "      <th>Lat</th>\n",
              "      <th>Lon</th>\n",
              "      <th>Base</th>\n",
              "    </tr>\n",
              "  </thead>\n",
              "  <tbody>\n",
              "    <tr>\n",
              "      <th>4534322</th>\n",
              "      <td>9/30/2014 22:57:00</td>\n",
              "      <td>40.7668</td>\n",
              "      <td>-73.9845</td>\n",
              "      <td>B02764</td>\n",
              "    </tr>\n",
              "    <tr>\n",
              "      <th>4534323</th>\n",
              "      <td>9/30/2014 22:57:00</td>\n",
              "      <td>40.6911</td>\n",
              "      <td>-74.1773</td>\n",
              "      <td>B02764</td>\n",
              "    </tr>\n",
              "    <tr>\n",
              "      <th>4534324</th>\n",
              "      <td>9/30/2014 22:58:00</td>\n",
              "      <td>40.8519</td>\n",
              "      <td>-73.9319</td>\n",
              "      <td>B02764</td>\n",
              "    </tr>\n",
              "    <tr>\n",
              "      <th>4534325</th>\n",
              "      <td>9/30/2014 22:58:00</td>\n",
              "      <td>40.7081</td>\n",
              "      <td>-74.0066</td>\n",
              "      <td>B02764</td>\n",
              "    </tr>\n",
              "    <tr>\n",
              "      <th>4534326</th>\n",
              "      <td>9/30/2014 22:58:00</td>\n",
              "      <td>40.7140</td>\n",
              "      <td>-73.9496</td>\n",
              "      <td>B02764</td>\n",
              "    </tr>\n",
              "  </tbody>\n",
              "</table>\n",
              "</div>"
            ],
            "text/plain": [
              "                  Date/Time      Lat      Lon    Base\n",
              "4534322  9/30/2014 22:57:00  40.7668 -73.9845  B02764\n",
              "4534323  9/30/2014 22:57:00  40.6911 -74.1773  B02764\n",
              "4534324  9/30/2014 22:58:00  40.8519 -73.9319  B02764\n",
              "4534325  9/30/2014 22:58:00  40.7081 -74.0066  B02764\n",
              "4534326  9/30/2014 22:58:00  40.7140 -73.9496  B02764"
            ]
          },
          "metadata": {
            "tags": []
          },
          "execution_count": 12
        }
      ]
    },
    {
      "cell_type": "markdown",
      "metadata": {
        "id": "lC2E5yMErhMu"
      },
      "source": [
        "##Dividing Date/Time into 5 more columns"
      ]
    },
    {
      "cell_type": "code",
      "metadata": {
        "id": "aoSfiQO82iW8"
      },
      "source": [
        "result['Date'] = pd.to_datetime(result['Date/Time'], format = '%m/%d/%Y %H:%M:%S').dt.date"
      ],
      "execution_count": null,
      "outputs": []
    },
    {
      "cell_type": "code",
      "metadata": {
        "id": "2Dlm_WTP2vQ8"
      },
      "source": [
        "result['Month'] = pd.to_datetime(result['Date/Time'], format = '%m/%d/%Y %H:%M:%S').dt.month"
      ],
      "execution_count": null,
      "outputs": []
    },
    {
      "cell_type": "code",
      "metadata": {
        "id": "9PIytsCq2_gN"
      },
      "source": [
        "result['DayOfTheWeek'] = pd.to_datetime(result['Date/Time'], format = '%m/%d/%Y %H:%M:%S').dt.dayofweek"
      ],
      "execution_count": null,
      "outputs": []
    },
    {
      "cell_type": "code",
      "metadata": {
        "id": "L-NEuCq_3J3T"
      },
      "source": [
        "result['Hour'] = pd.to_datetime(result['Date/Time'], format = '%m/%d/%Y %H:%M:%S').dt.hour"
      ],
      "execution_count": null,
      "outputs": []
    },
    {
      "cell_type": "code",
      "metadata": {
        "id": "6C4tV4Uu4YtH"
      },
      "source": [
        "result['OnlyDate'] = pd.to_datetime(result['Date/Time'], format = '%m/%d/%Y %H:%M:%S').dt.day"
      ],
      "execution_count": null,
      "outputs": []
    },
    {
      "cell_type": "code",
      "metadata": {
        "colab": {
          "base_uri": "https://localhost:8080/",
          "height": 195
        },
        "id": "JkeJNU0I4KNw",
        "outputId": "0d2f5db2-bfdf-4fc0-e00d-2a8956f60af9"
      },
      "source": [
        "result.head()"
      ],
      "execution_count": null,
      "outputs": [
        {
          "output_type": "execute_result",
          "data": {
            "text/html": [
              "<div>\n",
              "<style scoped>\n",
              "    .dataframe tbody tr th:only-of-type {\n",
              "        vertical-align: middle;\n",
              "    }\n",
              "\n",
              "    .dataframe tbody tr th {\n",
              "        vertical-align: top;\n",
              "    }\n",
              "\n",
              "    .dataframe thead th {\n",
              "        text-align: right;\n",
              "    }\n",
              "</style>\n",
              "<table border=\"1\" class=\"dataframe\">\n",
              "  <thead>\n",
              "    <tr style=\"text-align: right;\">\n",
              "      <th></th>\n",
              "      <th>Date/Time</th>\n",
              "      <th>Lat</th>\n",
              "      <th>Lon</th>\n",
              "      <th>Base</th>\n",
              "      <th>Date</th>\n",
              "      <th>Month</th>\n",
              "      <th>DayOfTheWeek</th>\n",
              "      <th>Hour</th>\n",
              "      <th>OnlyDate</th>\n",
              "    </tr>\n",
              "  </thead>\n",
              "  <tbody>\n",
              "    <tr>\n",
              "      <th>0</th>\n",
              "      <td>4/1/2014 0:11:00</td>\n",
              "      <td>40.7690</td>\n",
              "      <td>-73.9549</td>\n",
              "      <td>B02512</td>\n",
              "      <td>2014-04-01</td>\n",
              "      <td>4</td>\n",
              "      <td>1</td>\n",
              "      <td>0</td>\n",
              "      <td>1</td>\n",
              "    </tr>\n",
              "    <tr>\n",
              "      <th>1</th>\n",
              "      <td>4/1/2014 0:17:00</td>\n",
              "      <td>40.7267</td>\n",
              "      <td>-74.0345</td>\n",
              "      <td>B02512</td>\n",
              "      <td>2014-04-01</td>\n",
              "      <td>4</td>\n",
              "      <td>1</td>\n",
              "      <td>0</td>\n",
              "      <td>1</td>\n",
              "    </tr>\n",
              "    <tr>\n",
              "      <th>2</th>\n",
              "      <td>4/1/2014 0:21:00</td>\n",
              "      <td>40.7316</td>\n",
              "      <td>-73.9873</td>\n",
              "      <td>B02512</td>\n",
              "      <td>2014-04-01</td>\n",
              "      <td>4</td>\n",
              "      <td>1</td>\n",
              "      <td>0</td>\n",
              "      <td>1</td>\n",
              "    </tr>\n",
              "    <tr>\n",
              "      <th>3</th>\n",
              "      <td>4/1/2014 0:28:00</td>\n",
              "      <td>40.7588</td>\n",
              "      <td>-73.9776</td>\n",
              "      <td>B02512</td>\n",
              "      <td>2014-04-01</td>\n",
              "      <td>4</td>\n",
              "      <td>1</td>\n",
              "      <td>0</td>\n",
              "      <td>1</td>\n",
              "    </tr>\n",
              "    <tr>\n",
              "      <th>4</th>\n",
              "      <td>4/1/2014 0:33:00</td>\n",
              "      <td>40.7594</td>\n",
              "      <td>-73.9722</td>\n",
              "      <td>B02512</td>\n",
              "      <td>2014-04-01</td>\n",
              "      <td>4</td>\n",
              "      <td>1</td>\n",
              "      <td>0</td>\n",
              "      <td>1</td>\n",
              "    </tr>\n",
              "  </tbody>\n",
              "</table>\n",
              "</div>"
            ],
            "text/plain": [
              "          Date/Time      Lat      Lon  ... DayOfTheWeek Hour  OnlyDate\n",
              "0  4/1/2014 0:11:00  40.7690 -73.9549  ...            1    0         1\n",
              "1  4/1/2014 0:17:00  40.7267 -74.0345  ...            1    0         1\n",
              "2  4/1/2014 0:21:00  40.7316 -73.9873  ...            1    0         1\n",
              "3  4/1/2014 0:28:00  40.7588 -73.9776  ...            1    0         1\n",
              "4  4/1/2014 0:33:00  40.7594 -73.9722  ...            1    0         1\n",
              "\n",
              "[5 rows x 9 columns]"
            ]
          },
          "metadata": {
            "tags": []
          },
          "execution_count": 18
        }
      ]
    },
    {
      "cell_type": "markdown",
      "metadata": {
        "id": "_biSJuna_Gx7"
      },
      "source": [
        "##Plotting Bar Plots for various columns"
      ]
    },
    {
      "cell_type": "code",
      "metadata": {
        "colab": {
          "base_uri": "https://localhost:8080/",
          "height": 293
        },
        "id": "SFGoDu9270Up",
        "outputId": "225b2b41-a487-4844-c778-2f9f8e41275f"
      },
      "source": [
        "plt.bar(list(result['Month'].value_counts().index), list(result['Month'].value_counts().values))"
      ],
      "execution_count": null,
      "outputs": [
        {
          "output_type": "execute_result",
          "data": {
            "text/plain": [
              "<BarContainer object of 6 artists>"
            ]
          },
          "metadata": {
            "tags": []
          },
          "execution_count": 19
        },
        {
          "output_type": "display_data",
          "data": {
            "image/png": "[encoded data removed]",
            "text/plain": [
              "<Figure size 432x288 with 1 Axes>"
            ]
          },
          "metadata": {
            "tags": [],
            "needs_background": "light"
          }
        }
      ]
    },
    {
      "cell_type": "code",
      "metadata": {
        "colab": {
          "base_uri": "https://localhost:8080/",
          "height": 282
        },
        "id": "hIMCR5jg5OvX",
        "outputId": "7f2d0896-6172-41ec-c5e7-b9bd999973bb"
      },
      "source": [
        "plt.bar(list(result['DayOfTheWeek'].value_counts().index), list(result['DayOfTheWeek'].value_counts().values))"
      ],
      "execution_count": null,
      "outputs": [
        {
          "output_type": "execute_result",
          "data": {
            "text/plain": [
              "<BarContainer object of 7 artists>"
            ]
          },
          "metadata": {
            "tags": []
          },
          "execution_count": 20
        },
        {
          "output_type": "display_data",
          "data": {
            "image/png": "[encoded data removed]",
            "text/plain": [
              "<Figure size 432x288 with 1 Axes>"
            ]
          },
          "metadata": {
            "tags": [],
            "needs_background": "light"
          }
        }
      ]
    },
    {
      "cell_type": "code",
      "metadata": {
        "colab": {
          "base_uri": "https://localhost:8080/",
          "height": 284
        },
        "id": "xA3Pu0Lc61if",
        "outputId": "be0bfcc4-a879-40e3-c758-07784ee9bd9c"
      },
      "source": [
        "plt.bar(list(result['Hour'].value_counts().index), list(result['Hour'].value_counts().values))"
      ],
      "execution_count": null,
      "outputs": [
        {
          "output_type": "execute_result",
          "data": {
            "text/plain": [
              "<BarContainer object of 24 artists>"
            ]
          },
          "metadata": {
            "tags": []
          },
          "execution_count": 21
        },
        {
          "output_type": "display_data",
          "data": {
            "image/png": "[encoded data removed]",
            "text/plain": [
              "<Figure size 432x288 with 1 Axes>"
            ]
          },
          "metadata": {
            "tags": [],
            "needs_background": "light"
          }
        }
      ]
    },
    {
      "cell_type": "code",
      "metadata": {
        "colab": {
          "base_uri": "https://localhost:8080/",
          "height": 282
        },
        "id": "Du2tbkBT9kgH",
        "outputId": "9a5be155-ee6e-4787-90c9-44b08f4cd394"
      },
      "source": [
        "plt.bar(list(result['OnlyDate'].value_counts().index), list(result['OnlyDate'].value_counts().values))"
      ],
      "execution_count": null,
      "outputs": [
        {
          "output_type": "execute_result",
          "data": {
            "text/plain": [
              "<BarContainer object of 31 artists>"
            ]
          },
          "metadata": {
            "tags": []
          },
          "execution_count": 22
        },
        {
          "output_type": "display_data",
          "data": {
            "image/png": "[encoded data removed]",
            "text/plain": [
              "<Figure size 432x288 with 1 Axes>"
            ]
          },
          "metadata": {
            "tags": [],
            "needs_background": "light"
          }
        }
      ]
    },
    {
      "cell_type": "markdown",
      "metadata": {
        "id": "ADWq3cPs_DhE"
      },
      "source": [
        "#Microtask 2"
      ]
    },
    {
      "cell_type": "code",
      "metadata": {
        "colab": {
          "base_uri": "https://localhost:8080/"
        },
        "id": "dede44pn9rRj",
        "outputId": "a8b7e38c-8d66-4e2c-ff22-16f48f9642d7"
      },
      "source": [
        "result.columns"
      ],
      "execution_count": null,
      "outputs": [
        {
          "output_type": "execute_result",
          "data": {
            "text/plain": [
              "Index(['Date/Time', 'Lat', 'Lon', 'Base', 'Date', 'Month', 'DayOfTheWeek',\n",
              "       'Hour', 'OnlyDate'],\n",
              "      dtype='object')"
            ]
          },
          "metadata": {
            "tags": []
          },
          "execution_count": 23
        }
      ]
    },
    {
      "cell_type": "code",
      "metadata": {
        "id": "KSOPE_Np_h4V"
      },
      "source": [
        "result.drop(['Lat', 'Lon'], axis = 1, inplace = True)"
      ],
      "execution_count": null,
      "outputs": []
    },
    {
      "cell_type": "code",
      "metadata": {
        "colab": {
          "base_uri": "https://localhost:8080/",
          "height": 195
        },
        "id": "CrXh8mXA_yba",
        "outputId": "f31eedb5-0169-4943-a3c5-a73a8481eb8e"
      },
      "source": [
        "result.head()"
      ],
      "execution_count": null,
      "outputs": [
        {
          "output_type": "execute_result",
          "data": {
            "text/html": [
              "<div>\n",
              "<style scoped>\n",
              "    .dataframe tbody tr th:only-of-type {\n",
              "        vertical-align: middle;\n",
              "    }\n",
              "\n",
              "    .dataframe tbody tr th {\n",
              "        vertical-align: top;\n",
              "    }\n",
              "\n",
              "    .dataframe thead th {\n",
              "        text-align: right;\n",
              "    }\n",
              "</style>\n",
              "<table border=\"1\" class=\"dataframe\">\n",
              "  <thead>\n",
              "    <tr style=\"text-align: right;\">\n",
              "      <th></th>\n",
              "      <th>Date/Time</th>\n",
              "      <th>Base</th>\n",
              "      <th>Date</th>\n",
              "      <th>Month</th>\n",
              "      <th>DayOfTheWeek</th>\n",
              "      <th>Hour</th>\n",
              "      <th>OnlyDate</th>\n",
              "    </tr>\n",
              "  </thead>\n",
              "  <tbody>\n",
              "    <tr>\n",
              "      <th>0</th>\n",
              "      <td>4/1/2014 0:11:00</td>\n",
              "      <td>B02512</td>\n",
              "      <td>2014-04-01</td>\n",
              "      <td>4</td>\n",
              "      <td>1</td>\n",
              "      <td>0</td>\n",
              "      <td>1</td>\n",
              "    </tr>\n",
              "    <tr>\n",
              "      <th>1</th>\n",
              "      <td>4/1/2014 0:17:00</td>\n",
              "      <td>B02512</td>\n",
              "      <td>2014-04-01</td>\n",
              "      <td>4</td>\n",
              "      <td>1</td>\n",
              "      <td>0</td>\n",
              "      <td>1</td>\n",
              "    </tr>\n",
              "    <tr>\n",
              "      <th>2</th>\n",
              "      <td>4/1/2014 0:21:00</td>\n",
              "      <td>B02512</td>\n",
              "      <td>2014-04-01</td>\n",
              "      <td>4</td>\n",
              "      <td>1</td>\n",
              "      <td>0</td>\n",
              "      <td>1</td>\n",
              "    </tr>\n",
              "    <tr>\n",
              "      <th>3</th>\n",
              "      <td>4/1/2014 0:28:00</td>\n",
              "      <td>B02512</td>\n",
              "      <td>2014-04-01</td>\n",
              "      <td>4</td>\n",
              "      <td>1</td>\n",
              "      <td>0</td>\n",
              "      <td>1</td>\n",
              "    </tr>\n",
              "    <tr>\n",
              "      <th>4</th>\n",
              "      <td>4/1/2014 0:33:00</td>\n",
              "      <td>B02512</td>\n",
              "      <td>2014-04-01</td>\n",
              "      <td>4</td>\n",
              "      <td>1</td>\n",
              "      <td>0</td>\n",
              "      <td>1</td>\n",
              "    </tr>\n",
              "  </tbody>\n",
              "</table>\n",
              "</div>"
            ],
            "text/plain": [
              "          Date/Time    Base        Date  Month  DayOfTheWeek  Hour  OnlyDate\n",
              "0  4/1/2014 0:11:00  B02512  2014-04-01      4             1     0         1\n",
              "1  4/1/2014 0:17:00  B02512  2014-04-01      4             1     0         1\n",
              "2  4/1/2014 0:21:00  B02512  2014-04-01      4             1     0         1\n",
              "3  4/1/2014 0:28:00  B02512  2014-04-01      4             1     0         1\n",
              "4  4/1/2014 0:33:00  B02512  2014-04-01      4             1     0         1"
            ]
          },
          "metadata": {
            "tags": []
          },
          "execution_count": 25
        }
      ]
    },
    {
      "cell_type": "code",
      "metadata": {
        "id": "dh1JNM7zODRR"
      },
      "source": [
        "from sklearn.model_selection import train_test_split"
      ],
      "execution_count": null,
      "outputs": []
    },
    {
      "cell_type": "code",
      "metadata": {
        "colab": {
          "base_uri": "https://localhost:8080/",
          "height": 225
        },
        "id": "92eHigvV_72W",
        "outputId": "365e4708-ebbb-4080-a9a9-028be712cc2f"
      },
      "source": [
        "group1 = result.groupby(['Date']).count()\r\n",
        "time_series_train, time_series_test = train_test_split(group1, test_size = 0.1)\r\n",
        "time_series_train.head()"
      ],
      "execution_count": null,
      "outputs": [
        {
          "output_type": "execute_result",
          "data": {
            "text/html": [
              "<div>\n",
              "<style scoped>\n",
              "    .dataframe tbody tr th:only-of-type {\n",
              "        vertical-align: middle;\n",
              "    }\n",
              "\n",
              "    .dataframe tbody tr th {\n",
              "        vertical-align: top;\n",
              "    }\n",
              "\n",
              "    .dataframe thead th {\n",
              "        text-align: right;\n",
              "    }\n",
              "</style>\n",
              "<table border=\"1\" class=\"dataframe\">\n",
              "  <thead>\n",
              "    <tr style=\"text-align: right;\">\n",
              "      <th></th>\n",
              "      <th>Date/Time</th>\n",
              "      <th>Base</th>\n",
              "      <th>Month</th>\n",
              "      <th>DayOfTheWeek</th>\n",
              "      <th>Hour</th>\n",
              "      <th>OnlyDate</th>\n",
              "    </tr>\n",
              "    <tr>\n",
              "      <th>Date</th>\n",
              "      <th></th>\n",
              "      <th></th>\n",
              "      <th></th>\n",
              "      <th></th>\n",
              "      <th></th>\n",
              "      <th></th>\n",
              "    </tr>\n",
              "  </thead>\n",
              "  <tbody>\n",
              "    <tr>\n",
              "      <th>2014-06-03</th>\n",
              "      <td>22674</td>\n",
              "      <td>22674</td>\n",
              "      <td>22674</td>\n",
              "      <td>22674</td>\n",
              "      <td>22674</td>\n",
              "      <td>22674</td>\n",
              "    </tr>\n",
              "    <tr>\n",
              "      <th>2014-06-02</th>\n",
              "      <td>17503</td>\n",
              "      <td>17503</td>\n",
              "      <td>17503</td>\n",
              "      <td>17503</td>\n",
              "      <td>17503</td>\n",
              "      <td>17503</td>\n",
              "    </tr>\n",
              "    <tr>\n",
              "      <th>2014-09-18</th>\n",
              "      <td>40274</td>\n",
              "      <td>40274</td>\n",
              "      <td>40274</td>\n",
              "      <td>40274</td>\n",
              "      <td>40274</td>\n",
              "      <td>40274</td>\n",
              "    </tr>\n",
              "    <tr>\n",
              "      <th>2014-08-20</th>\n",
              "      <td>27955</td>\n",
              "      <td>27955</td>\n",
              "      <td>27955</td>\n",
              "      <td>27955</td>\n",
              "      <td>27955</td>\n",
              "      <td>27955</td>\n",
              "    </tr>\n",
              "    <tr>\n",
              "      <th>2014-08-29</th>\n",
              "      <td>27424</td>\n",
              "      <td>27424</td>\n",
              "      <td>27424</td>\n",
              "      <td>27424</td>\n",
              "      <td>27424</td>\n",
              "      <td>27424</td>\n",
              "    </tr>\n",
              "  </tbody>\n",
              "</table>\n",
              "</div>"
            ],
            "text/plain": [
              "            Date/Time   Base  Month  DayOfTheWeek   Hour  OnlyDate\n",
              "Date                                                              \n",
              "2014-06-03      22674  22674  22674         22674  22674     22674\n",
              "2014-06-02      17503  17503  17503         17503  17503     17503\n",
              "2014-09-18      40274  40274  40274         40274  40274     40274\n",
              "2014-08-20      27955  27955  27955         27955  27955     27955\n",
              "2014-08-29      27424  27424  27424         27424  27424     27424"
            ]
          },
          "metadata": {
            "tags": []
          },
          "execution_count": 27
        }
      ]
    },
    {
      "cell_type": "code",
      "metadata": {
        "colab": {
          "base_uri": "https://localhost:8080/"
        },
        "id": "hZlDoIyZHYyR",
        "outputId": "b8638e6a-e35a-4503-b2f9-f6f537c2324a"
      },
      "source": [
        "group2 = result.groupby('Date/Time').count()\r\n",
        "ann_train, ann_test = train_test_split(group2, test_size = 0.1)\r\n",
        "ann_train.head()\r\n",
        "group2.shape"
      ],
      "execution_count": null,
      "outputs": [
        {
          "output_type": "execute_result",
          "data": {
            "text/plain": [
              "(260093, 6)"
            ]
          },
          "metadata": {
            "tags": []
          },
          "execution_count": 28
        }
      ]
    },
    {
      "cell_type": "markdown",
      "metadata": {
        "id": "POq94HoHSBiQ"
      },
      "source": [
        "#Microtask 3"
      ]
    },
    {
      "cell_type": "code",
      "metadata": {
        "colab": {
          "base_uri": "https://localhost:8080/"
        },
        "id": "OIT51jjaDGvg",
        "outputId": "4767f0e5-c003-4f2e-b182-c77a6e845ffb"
      },
      "source": [
        "!pip install --upgrade statsmodels==0.12.0"
      ],
      "execution_count": null,
      "outputs": [
        {
          "output_type": "stream",
          "text": [
            "Collecting statsmodels==0.12.0\n",
            "\u001b[?25l  Downloading https://files.pythonhosted.org/packages/00/93/1b6882f92d94e491a3e3be101fc83934551eada261281980f3957246432f/statsmodels-0.12.0-cp36-cp36m-manylinux1_x86_64.whl (9.5MB)\n",
            "\u001b[K     |████████████████████████████████| 9.5MB 6.4MB/s \n",
            "\u001b[?25hRequirement already satisfied, skipping upgrade: patsy>=0.5 in /usr/local/lib/python3.6/dist-packages (from statsmodels==0.12.0) (0.5.1)\n",
            "Requirement already satisfied, skipping upgrade: pandas>=0.21 in /usr/local/lib/python3.6/dist-packages (from statsmodels==0.12.0) (1.1.5)\n",
            "Requirement already satisfied, skipping upgrade: numpy>=1.15 in /usr/local/lib/python3.6/dist-packages (from statsmodels==0.12.0) (1.19.5)\n",
            "Requirement already satisfied, skipping upgrade: scipy>=1.1 in /usr/local/lib/python3.6/dist-packages (from statsmodels==0.12.0) (1.4.1)\n",
            "Requirement already satisfied, skipping upgrade: six in /usr/local/lib/python3.6/dist-packages (from patsy>=0.5->statsmodels==0.12.0) (1.15.0)\n",
            "Requirement already satisfied, skipping upgrade: pytz>=2017.2 in /usr/local/lib/python3.6/dist-packages (from pandas>=0.21->statsmodels==0.12.0) (2018.9)\n",
            "Requirement already satisfied, skipping upgrade: python-dateutil>=2.7.3 in /usr/local/lib/python3.6/dist-packages (from pandas>=0.21->statsmodels==0.12.0) (2.8.1)\n",
            "Installing collected packages: statsmodels\n",
            "  Found existing installation: statsmodels 0.10.2\n",
            "    Uninstalling statsmodels-0.10.2:\n",
            "      Successfully uninstalled statsmodels-0.10.2\n",
            "Successfully installed statsmodels-0.12.0\n"
          ],
          "name": "stdout"
        }
      ]
    },
    {
      "cell_type": "code",
      "metadata": {
        "id": "kf9YS7GKTQeA"
      },
      "source": [
        "from statsmodels.tsa.api import ExponentialSmoothing, SimpleExpSmoothing, Holt\r\n",
        "import statsmodels.api as sm\r\n",
        "import numpy as np"
      ],
      "execution_count": null,
      "outputs": []
    },
    {
      "cell_type": "code",
      "metadata": {
        "colab": {
          "base_uri": "https://localhost:8080/"
        },
        "id": "rZuoj74WCtrD",
        "outputId": "4e4ac644-03e1-4022-99f0-82c0cfcf274a"
      },
      "source": [
        "group1.columns"
      ],
      "execution_count": null,
      "outputs": [
        {
          "output_type": "execute_result",
          "data": {
            "text/plain": [
              "Index(['Date/Time', 'Base', 'Month', 'DayOfTheWeek', 'Hour', 'OnlyDate'], dtype='object')"
            ]
          },
          "metadata": {
            "tags": []
          },
          "execution_count": 31
        }
      ]
    },
    {
      "cell_type": "code",
      "metadata": {
        "colab": {
          "base_uri": "https://localhost:8080/",
          "height": 783
        },
        "id": "TsX5SexcCfB4",
        "outputId": "15ef27d0-0007-4c99-fdd6-5514cfb46932"
      },
      "source": [
        "aust = group1['Base']\r\n",
        "fit1 = ExponentialSmoothing(aust, seasonal_periods=6, trend='add', seasonal='add', use_boxcox=True, initialization_method=\"estimated\").fit()\r\n",
        "fit2 = ExponentialSmoothing(aust, seasonal_periods=4, trend='add', seasonal='mul', use_boxcox=True, initialization_method=\"estimated\").fit()\r\n",
        "fit3 = ExponentialSmoothing(aust, seasonal_periods=4, trend='add', seasonal='add', damped_trend=True, use_boxcox=True, initialization_method=\"estimated\").fit()\r\n",
        "fit4 = ExponentialSmoothing(aust, seasonal_periods=4, trend='add', seasonal='mul', damped_trend=True, use_boxcox=True, initialization_method=\"estimated\").fit()\r\n",
        "results=pd.DataFrame(index=[r\"$\\alpha$\",r\"$\\beta$\",r\"$\\phi$\",r\"$\\gamma$\",r\"$l_0$\",\"$b_0$\",\"SSE\"])\r\n",
        "params = ['smoothing_level', 'smoothing_trend', 'damping_trend', 'smoothing_seasonal', 'initial_level', 'initial_trend']\r\n",
        "results[\"Additive\"]       = [fit1.params[p] for p in params] + [fit1.sse]\r\n",
        "results[\"Multiplicative\"] = [fit2.params[p] for p in params] + [fit2.sse]\r\n",
        "results[\"Additive Dam\"]   = [fit3.params[p] for p in params] + [fit3.sse]\r\n",
        "results[\"Multiplica Dam\"] = [fit4.params[p] for p in params] + [fit4.sse]\r\n",
        "\r\n",
        "ax = aust.plot(figsize=(10,6), marker='o', color='black', title=\"Forecasts from Holt-Winters' multiplicative method\" )\r\n",
        "ax.set_ylabel(\"Total journeys\")\r\n",
        "ax.set_xlabel(\"months\")\r\n",
        "fit1.fittedvalues.plot(ax=ax, style='--', color='red')\r\n",
        "fit2.fittedvalues.plot(ax=ax, style='--', color='green')\r\n",
        "\r\n",
        "fit1.forecast(8).rename('Holt-Winters (add-add-seasonal)').plot(ax=ax, style='--', marker='o', color='red', legend=True)\r\n",
        "fit2.forecast(8).rename('Holt-Winters (add-mul-seasonal)').plot(ax=ax, style='--', marker='o', color='green', legend=True)\r\n",
        "\r\n",
        "plt.show()\r\n",
        "\r\n",
        "results"
      ],
      "execution_count": null,
      "outputs": [
        {
          "output_type": "stream",
          "text": [
            "/usr/local/lib/python3.6/dist-packages/statsmodels/tsa/base/tsa_model.py:527: ValueWarning: No frequency information was provided, so inferred frequency D will be used.\n",
            "  % freq, ValueWarning)\n",
            "/usr/local/lib/python3.6/dist-packages/statsmodels/tsa/base/tsa_model.py:527: ValueWarning: No frequency information was provided, so inferred frequency D will be used.\n",
            "  % freq, ValueWarning)\n",
            "/usr/local/lib/python3.6/dist-packages/statsmodels/tsa/base/tsa_model.py:527: ValueWarning: No frequency information was provided, so inferred frequency D will be used.\n",
            "  % freq, ValueWarning)\n",
            "/usr/local/lib/python3.6/dist-packages/statsmodels/tsa/base/tsa_model.py:527: ValueWarning: No frequency information was provided, so inferred frequency D will be used.\n",
            "  % freq, ValueWarning)\n"
          ],
          "name": "stderr"
        },
        {
          "output_type": "display_data",
          "data": {
            "image/png": "[encoded data removed]",
            "text/plain": [
              "<Figure size 720x432 with 1 Axes>"
            ]
          },
          "metadata": {
            "tags": [],
            "needs_background": "light"
          }
        },
        {
          "output_type": "execute_result",
          "data": {
            "text/html": [
              "<div>\n",
              "<style scoped>\n",
              "    .dataframe tbody tr th:only-of-type {\n",
              "        vertical-align: middle;\n",
              "    }\n",
              "\n",
              "    .dataframe tbody tr th {\n",
              "        vertical-align: top;\n",
              "    }\n",
              "\n",
              "    .dataframe thead th {\n",
              "        text-align: right;\n",
              "    }\n",
              "</style>\n",
              "<table border=\"1\" class=\"dataframe\">\n",
              "  <thead>\n",
              "    <tr style=\"text-align: right;\">\n",
              "      <th></th>\n",
              "      <th>Additive</th>\n",
              "      <th>Multiplicative</th>\n",
              "      <th>Additive Dam</th>\n",
              "      <th>Multiplica Dam</th>\n",
              "    </tr>\n",
              "  </thead>\n",
              "  <tbody>\n",
              "    <tr>\n",
              "      <th>$\\alpha$</th>\n",
              "      <td>9.489397e-01</td>\n",
              "      <td>9.320055e-01</td>\n",
              "      <td>9.311231e-01</td>\n",
              "      <td>9.242855e-01</td>\n",
              "    </tr>\n",
              "    <tr>\n",
              "      <th>$\\beta$</th>\n",
              "      <td>3.152117e-03</td>\n",
              "      <td>1.807612e-03</td>\n",
              "      <td>2.719668e-04</td>\n",
              "      <td>1.004841e-04</td>\n",
              "    </tr>\n",
              "    <tr>\n",
              "      <th>$\\phi$</th>\n",
              "      <td>NaN</td>\n",
              "      <td>NaN</td>\n",
              "      <td>9.723930e-01</td>\n",
              "      <td>9.900000e-01</td>\n",
              "    </tr>\n",
              "    <tr>\n",
              "      <th>$\\gamma$</th>\n",
              "      <td>4.013929e-02</td>\n",
              "      <td>6.106162e-02</td>\n",
              "      <td>6.471015e-02</td>\n",
              "      <td>7.571450e-02</td>\n",
              "    </tr>\n",
              "    <tr>\n",
              "      <th>$l_0$</th>\n",
              "      <td>6.784712e+02</td>\n",
              "      <td>6.506978e+02</td>\n",
              "      <td>6.803348e+02</td>\n",
              "      <td>7.022318e+02</td>\n",
              "    </tr>\n",
              "    <tr>\n",
              "      <th>$b_0$</th>\n",
              "      <td>5.738275e+00</td>\n",
              "      <td>-2.718059e+00</td>\n",
              "      <td>2.213361e+00</td>\n",
              "      <td>-7.241882e+00</td>\n",
              "    </tr>\n",
              "    <tr>\n",
              "      <th>SSE</th>\n",
              "      <td>4.352943e+09</td>\n",
              "      <td>4.110917e+09</td>\n",
              "      <td>4.141766e+09</td>\n",
              "      <td>4.246528e+09</td>\n",
              "    </tr>\n",
              "  </tbody>\n",
              "</table>\n",
              "</div>"
            ],
            "text/plain": [
              "              Additive  Multiplicative  Additive Dam  Multiplica Dam\n",
              "$\\alpha$  9.489397e-01    9.320055e-01  9.311231e-01    9.242855e-01\n",
              "$\\beta$   3.152117e-03    1.807612e-03  2.719668e-04    1.004841e-04\n",
              "$\\phi$             NaN             NaN  9.723930e-01    9.900000e-01\n",
              "$\\gamma$  4.013929e-02    6.106162e-02  6.471015e-02    7.571450e-02\n",
              "$l_0$     6.784712e+02    6.506978e+02  6.803348e+02    7.022318e+02\n",
              "$b_0$     5.738275e+00   -2.718059e+00  2.213361e+00   -7.241882e+00\n",
              "SSE       4.352943e+09    4.110917e+09  4.141766e+09    4.246528e+09"
            ]
          },
          "metadata": {
            "tags": []
          },
          "execution_count": 32
        }
      ]
    },
    {
      "cell_type": "markdown",
      "metadata": {
        "id": "xjTpZjppJPyc"
      },
      "source": [
        "#MicroTask4"
      ]
    },
    {
      "cell_type": "code",
      "metadata": {
        "colab": {
          "base_uri": "https://localhost:8080/",
          "height": 906
        },
        "id": "tNg2OVh6Z-aG",
        "outputId": "70e7d4fa-a40c-4017-8199-a88e6e39d441"
      },
      "source": [
        "Train_log = np.log(group1['Date/Time'])\r\n",
        "valid_log = np.log(group1['Date/Time'])\r\n",
        "from statsmodels.tsa.arima_model import ARIMA\r\n",
        "plt.figure(figsize = (15,8))\r\n",
        "model = ARIMA(Train_log, order = (2,1,0))\r\n",
        "results_AR = model.fit(disp=-1)\r\n",
        "train_log_diff = Train_log - Train_log.shift(1)\r\n",
        "plt.plot(train_log_diff.dropna(), label = \"Original\")\r\n",
        "plt.plot(results_AR.fittedvalues, color = 'red', label = 'Predictions')\r\n",
        "plt.legend(loc = 'best')"
      ],
      "execution_count": null,
      "outputs": [
        {
          "output_type": "stream",
          "text": [
            "/usr/local/lib/python3.6/dist-packages/statsmodels/tsa/arima_model.py:472: FutureWarning: \n",
            "statsmodels.tsa.arima_model.ARMA and statsmodels.tsa.arima_model.ARIMA have\n",
            "been deprecated in favor of statsmodels.tsa.arima.model.ARIMA (note the .\n",
            "between arima and model) and\n",
            "statsmodels.tsa.SARIMAX. These will be removed after the 0.12 release.\n",
            "\n",
            "statsmodels.tsa.arima.model.ARIMA makes use of the statespace framework and\n",
            "is both well tested and maintained.\n",
            "\n",
            "To silence this warning and continue using ARMA and ARIMA until they are\n",
            "removed, use:\n",
            "\n",
            "import warnings\n",
            "warnings.filterwarnings('ignore', 'statsmodels.tsa.arima_model.ARMA',\n",
            "                        FutureWarning)\n",
            "warnings.filterwarnings('ignore', 'statsmodels.tsa.arima_model.ARIMA',\n",
            "                        FutureWarning)\n",
            "\n",
            "  warnings.warn(ARIMA_DEPRECATION_WARN, FutureWarning)\n",
            "/usr/local/lib/python3.6/dist-packages/statsmodels/tsa/base/tsa_model.py:527: ValueWarning: No frequency information was provided, so inferred frequency D will be used.\n",
            "  % freq, ValueWarning)\n",
            "/usr/local/lib/python3.6/dist-packages/statsmodels/tsa/base/tsa_model.py:527: ValueWarning: No frequency information was provided, so inferred frequency D will be used.\n",
            "  % freq, ValueWarning)\n"
          ],
          "name": "stderr"
        },
        {
          "output_type": "execute_result",
          "data": {
            "text/plain": [
              "<matplotlib.legend.Legend at 0x7f871f680160>"
            ]
          },
          "metadata": {
            "tags": []
          },
          "execution_count": 43
        },
        {
          "output_type": "display_data",
          "data": {
            "image/png": "[encoded data removed]",
            "text/plain": [
              "<Figure size 1080x576 with 1 Axes>"
            ]
          },
          "metadata": {
            "tags": [],
            "needs_background": "light"
          }
        }
      ]
    },
    {
      "cell_type": "markdown",
      "metadata": {
        "id": "S2SUXv1XJUJb"
      },
      "source": [
        "#MicroTask5"
      ]
    },
    {
      "cell_type": "code",
      "metadata": {
        "id": "OsQ19vZNJbPm"
      },
      "source": [
        "from sklearn.preprocessing import MinMaxScaler\r\n",
        "from sklearn.metrics import r2_score\r\n",
        "from sklearn.metrics import mean_squared_error\r\n",
        "from keras.models import Sequential\r\n",
        "from keras.layers import Dense\r\n",
        "from keras.callbacks import EarlyStopping\r\n",
        "from keras.optimizers import Adam"
      ],
      "execution_count": null,
      "outputs": []
    },
    {
      "cell_type": "code",
      "metadata": {
        "colab": {
          "base_uri": "https://localhost:8080/",
          "height": 376
        },
        "id": "hE2uWjpcKe_1",
        "outputId": "e0752654-0eb6-4801-9941-a5abaf2452e4"
      },
      "source": [
        "uber_count = result.groupby(pd.Grouper(key='Date/Time')).count()\r\n",
        "uber_count= uber_count.drop(columns = ['OnlyDate', 'Base', 'Month', 'DayOfTheWeek', 'Hour'])\r\n",
        "print(uber_count.info())\r\n",
        "uber_count.head()"
      ],
      "execution_count": null,
      "outputs": [
        {
          "output_type": "stream",
          "text": [
            "<class 'pandas.core.frame.DataFrame'>\n",
            "Index: 260093 entries, 4/1/2014 0:11:00 to 9/30/2014 3:26:00\n",
            "Data columns (total 1 columns):\n",
            " #   Column  Non-Null Count   Dtype\n",
            "---  ------  --------------   -----\n",
            " 0   Date    260093 non-null  int64\n",
            "dtypes: int64(1)\n",
            "memory usage: 4.0+ MB\n",
            "None\n"
          ],
          "name": "stdout"
        },
        {
          "output_type": "execute_result",
          "data": {
            "text/html": [
              "<div>\n",
              "<style scoped>\n",
              "    .dataframe tbody tr th:only-of-type {\n",
              "        vertical-align: middle;\n",
              "    }\n",
              "\n",
              "    .dataframe tbody tr th {\n",
              "        vertical-align: top;\n",
              "    }\n",
              "\n",
              "    .dataframe thead th {\n",
              "        text-align: right;\n",
              "    }\n",
              "</style>\n",
              "<table border=\"1\" class=\"dataframe\">\n",
              "  <thead>\n",
              "    <tr style=\"text-align: right;\">\n",
              "      <th></th>\n",
              "      <th>Date</th>\n",
              "    </tr>\n",
              "    <tr>\n",
              "      <th>Date/Time</th>\n",
              "      <th></th>\n",
              "    </tr>\n",
              "  </thead>\n",
              "  <tbody>\n",
              "    <tr>\n",
              "      <th>4/1/2014 0:11:00</th>\n",
              "      <td>6</td>\n",
              "    </tr>\n",
              "    <tr>\n",
              "      <th>4/1/2014 0:17:00</th>\n",
              "      <td>3</td>\n",
              "    </tr>\n",
              "    <tr>\n",
              "      <th>4/1/2014 0:21:00</th>\n",
              "      <td>5</td>\n",
              "    </tr>\n",
              "    <tr>\n",
              "      <th>4/1/2014 0:28:00</th>\n",
              "      <td>3</td>\n",
              "    </tr>\n",
              "    <tr>\n",
              "      <th>4/1/2014 0:33:00</th>\n",
              "      <td>5</td>\n",
              "    </tr>\n",
              "  </tbody>\n",
              "</table>\n",
              "</div>"
            ],
            "text/plain": [
              "                  Date\n",
              "Date/Time             \n",
              "4/1/2014 0:11:00     6\n",
              "4/1/2014 0:17:00     3\n",
              "4/1/2014 0:21:00     5\n",
              "4/1/2014 0:28:00     3\n",
              "4/1/2014 0:33:00     5"
            ]
          },
          "metadata": {
            "tags": []
          },
          "execution_count": 36
        }
      ]
    },
    {
      "cell_type": "code",
      "metadata": {
        "colab": {
          "base_uri": "https://localhost:8080/",
          "height": 225
        },
        "id": "SofnQnuRKzS0",
        "outputId": "04cf61d3-f9f8-4797-90d5-bb7c33eb02b9"
      },
      "source": [
        "train = uber_count[:][:234083]\r\n",
        "test = uber_count[:][234084:]\r\n",
        "test.head()"
      ],
      "execution_count": null,
      "outputs": [
        {
          "output_type": "execute_result",
          "data": {
            "text/html": [
              "<div>\n",
              "<style scoped>\n",
              "    .dataframe tbody tr th:only-of-type {\n",
              "        vertical-align: middle;\n",
              "    }\n",
              "\n",
              "    .dataframe tbody tr th {\n",
              "        vertical-align: top;\n",
              "    }\n",
              "\n",
              "    .dataframe thead th {\n",
              "        text-align: right;\n",
              "    }\n",
              "</style>\n",
              "<table border=\"1\" class=\"dataframe\">\n",
              "  <thead>\n",
              "    <tr style=\"text-align: right;\">\n",
              "      <th></th>\n",
              "      <th>Date</th>\n",
              "    </tr>\n",
              "    <tr>\n",
              "      <th>Date/Time</th>\n",
              "      <th></th>\n",
              "    </tr>\n",
              "  </thead>\n",
              "  <tbody>\n",
              "    <tr>\n",
              "      <th>9/24/2014 9:59:00</th>\n",
              "      <td>19</td>\n",
              "    </tr>\n",
              "    <tr>\n",
              "      <th>9/24/2014 10:00:00</th>\n",
              "      <td>15</td>\n",
              "    </tr>\n",
              "    <tr>\n",
              "      <th>9/24/2014 10:04:00</th>\n",
              "      <td>10</td>\n",
              "    </tr>\n",
              "    <tr>\n",
              "      <th>9/24/2014 10:05:00</th>\n",
              "      <td>17</td>\n",
              "    </tr>\n",
              "    <tr>\n",
              "      <th>9/24/2014 10:06:00</th>\n",
              "      <td>16</td>\n",
              "    </tr>\n",
              "  </tbody>\n",
              "</table>\n",
              "</div>"
            ],
            "text/plain": [
              "                    Date\n",
              "Date/Time               \n",
              "9/24/2014 9:59:00     19\n",
              "9/24/2014 10:00:00    15\n",
              "9/24/2014 10:04:00    10\n",
              "9/24/2014 10:05:00    17\n",
              "9/24/2014 10:06:00    16"
            ]
          },
          "metadata": {
            "tags": []
          },
          "execution_count": 37
        }
      ]
    },
    {
      "cell_type": "code",
      "metadata": {
        "id": "qS2oinGOIxvC"
      },
      "source": [
        "sc = MinMaxScaler()\r\n",
        "train_sc = sc.fit_transform(train)\r\n",
        "test_sc = sc.transform(test)\r\n",
        "\r\n",
        "X_train = train_sc[:-1]\r\n",
        "y_train = train_sc[1:]\r\n",
        "\r\n",
        "X_test = test_sc[:-1]\r\n",
        "y_test = test_sc[1:]"
      ],
      "execution_count": null,
      "outputs": []
    },
    {
      "cell_type": "code",
      "metadata": {
        "colab": {
          "base_uri": "https://localhost:8080/"
        },
        "id": "MBVwIDmtJWOa",
        "outputId": "e7aa7649-d156-4c81-c15c-ecaba53f3a58"
      },
      "source": [
        "\r\n",
        "model = Sequential()\r\n",
        "model.add(Dense(9, input_dim=1, activation='relu'))\r\n",
        "model.add(Dense(1))\r\n",
        "model.compile(loss='mean_squared_error', optimizer='adam', metrics = ['accuracy'])\r\n",
        "early_stop = EarlyStopping(monitor='loss', patience=5, verbose=1)\r\n",
        "history = model.fit(X_train, y_train, epochs=10, batch_size=1, verbose=1, callbacks=[early_stop], shuffle=False)"
      ],
      "execution_count": null,
      "outputs": [
        {
          "output_type": "stream",
          "text": [
            "Epoch 1/10\n",
            "234082/234082 [==============================] - 349s 1ms/step - loss: 0.0024 - accuracy: 0.0284\n",
            "Epoch 2/10\n",
            "234082/234082 [==============================] - 342s 1ms/step - loss: 0.0025 - accuracy: 0.0284\n",
            "Epoch 3/10\n",
            "234082/234082 [==============================] - 343s 1ms/step - loss: 0.0025 - accuracy: 0.0284\n",
            "Epoch 4/10\n",
            "234082/234082 [==============================] - 338s 1ms/step - loss: 0.0025 - accuracy: 0.0284\n",
            "Epoch 5/10\n",
            "234082/234082 [==============================] - 337s 1ms/step - loss: 0.0025 - accuracy: 0.0284\n",
            "Epoch 6/10\n",
            "234082/234082 [==============================] - 338s 1ms/step - loss: 0.0025 - accuracy: 0.0284\n",
            "Epoch 00006: early stopping\n"
          ],
          "name": "stdout"
        }
      ]
    }
  ]
}